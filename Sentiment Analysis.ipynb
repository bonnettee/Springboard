{
 "cells": [
  {
   "cell_type": "code",
   "execution_count": 212,
   "metadata": {},
   "outputs": [],
   "source": [
    "import os\n",
    "import pandas as pd\n",
    "import datetime\n",
    "import requests\n",
    "from bs4 import BeautifulSoup\n",
    "import nltk"
   ]
  },
  {
   "cell_type": "code",
   "execution_count": 213,
   "metadata": {},
   "outputs": [
    {
     "data": {
      "text/plain": [
       "'/Users/ericabonnette/Desktop/Springboard Projects/Sentiment Analysis'"
      ]
     },
     "execution_count": 213,
     "metadata": {},
     "output_type": "execute_result"
    }
   ],
   "source": [
    "os.getcwd()"
   ]
  },
  {
   "cell_type": "code",
   "execution_count": 214,
   "metadata": {},
   "outputs": [],
   "source": [
    "pathcovid = './covidtweet.csv'\n",
    "pathprecovid= './precovidtweet.csv'\n",
    "pathlockdown= './shutdown.csv'\n",
    "\n",
    "covidtweets = pd.read_csv(pathcovid)\n",
    "precovidtweets = pd.read_csv(pathprecovid)\n",
    "lockdowntweets = pd.read_csv(pathlockdown)"
   ]
  },
  {
   "cell_type": "code",
   "execution_count": 269,
   "metadata": {},
   "outputs": [],
   "source": [
    "Tweets = pd.concat([covidtweets, precovidtweets, lockdowntweets], axis=0)"
   ]
  },
  {
   "cell_type": "code",
   "execution_count": 270,
   "metadata": {},
   "outputs": [],
   "source": [
    "#first let's convert the date columns into datetime to be able to sort them properly.\n",
    "#Tweets['date'] =  pd.to_datetime(Tweets['date'], format='%d%b%Y:%H:%M:%S.%f')\n",
    "#Tweets[unix_timestamp] = datetime.datetime.fromtimestamp(int(Tweets[unix_timestamp])).strftime('%Y-%m-%d %H:%M:%S')\n",
    "fulltime = []\n",
    "for i in Tweets['unix_timestamp']: \n",
    "    zuzu = datetime.datetime.fromtimestamp((int(i)/1000)).strftime('%Y-%m-%d %H:%M:%S')\n",
    "    fulltime.append(zuzu)"
   ]
  },
  {
   "cell_type": "code",
   "execution_count": 271,
   "metadata": {},
   "outputs": [],
   "source": [
    "Tweets.unix_timestamp = fulltime"
   ]
  },
  {
   "cell_type": "code",
   "execution_count": 272,
   "metadata": {},
   "outputs": [],
   "source": [
    "Tweets = Tweets.rename(columns= {'unix_timestamp':\"post_datetime\"})"
   ]
  },
  {
   "cell_type": "code",
   "execution_count": 273,
   "metadata": {
    "scrolled": true
   },
   "outputs": [],
   "source": [
    "Tweets = Tweets.drop(columns = ['date', 'search_url', 'url'], axis=1)"
   ]
  },
  {
   "cell_type": "code",
   "execution_count": 274,
   "metadata": {},
   "outputs": [],
   "source": [
    "Tweets = Tweets.sort_values(by='post_datetime',ascending=True)"
   ]
  },
  {
   "cell_type": "code",
   "execution_count": 275,
   "metadata": {},
   "outputs": [
    {
     "name": "stdout",
     "output_type": "stream",
     "text": [
      "<class 'pandas.core.frame.DataFrame'>\n",
      "Int64Index: 57990 entries, 2543 to 13247\n",
      "Data columns (total 8 columns):\n",
      " #   Column         Non-Null Count  Dtype \n",
      "---  ------         --------------  ----- \n",
      " 0   handle         57990 non-null  object\n",
      " 1   name           57989 non-null  object\n",
      " 2   content        57990 non-null  object\n",
      " 3   replies        57990 non-null  int64 \n",
      " 4   retweets       57990 non-null  int64 \n",
      " 5   favorite       57990 non-null  int64 \n",
      " 6   post_datetime  57990 non-null  object\n",
      " 7   hashtags       7258 non-null   object\n",
      "dtypes: int64(3), object(5)\n",
      "memory usage: 4.0+ MB\n"
     ]
    }
   ],
   "source": [
    "Tweets.info()"
   ]
  },
  {
   "cell_type": "code",
   "execution_count": 276,
   "metadata": {},
   "outputs": [
    {
     "name": "stdout",
     "output_type": "stream",
     "text": [
      "              handle           name  \\\n",
      "1498        @cheezit       CHEEZ-IT   \n",
      "949          @Dis_CT           Bill   \n",
      "6276  @sophiasgalaxy  Sophiasgalaxy   \n",
      "3207     @jjonescomm      Jen Jones   \n",
      "443        @boltyboy   Matthew Holt   \n",
      "\n",
      "                                                content  replies  retweets  \\\n",
      "1498  Take a look at this new #Snapd thing we did. C...      638       675   \n",
      "949   @goop @Delta @DeltaAssist why is Delta alignin...        0         0   \n",
      "6276  Since Boeing and your president don’t care abo...        0         0   \n",
      "3207  @Delta had two great flights with you today. T...        1         0   \n",
      "443   @chrissyfarr @Estrellajrios Actually @Delta di...        0         0   \n",
      "\n",
      "      favorite       post_datetime      hashtags  \n",
      "1498      8088 2019-02-18 06:05:00         Snapd  \n",
      "949          2 2019-02-19 18:25:24           NaN  \n",
      "6276         0 2019-03-14 18:22:33  Boeing737Max  \n",
      "3207         0 2019-03-14 18:44:08    glutenfree  \n",
      "443          4 2019-03-14 18:48:32           NaN  \n"
     ]
    }
   ],
   "source": [
    "#odd, my dataframe apparently has two tweets from 2017. Not dates I'm looking for though. let's drop those\n",
    "\n",
    "Tweets['post_datetime'] = pd.to_datetime(Tweets['post_datetime'])\n",
    "datefilter = '01-01-2019'\n",
    "Tweets = Tweets[Tweets['post_datetime'] > datefilter]\n",
    "print(Tweets.head())"
   ]
  },
  {
   "cell_type": "code",
   "execution_count": 277,
   "metadata": {},
   "outputs": [
    {
     "data": {
      "text/html": [
       "<div>\n",
       "<style scoped>\n",
       "    .dataframe tbody tr th:only-of-type {\n",
       "        vertical-align: middle;\n",
       "    }\n",
       "\n",
       "    .dataframe tbody tr th {\n",
       "        vertical-align: top;\n",
       "    }\n",
       "\n",
       "    .dataframe thead th {\n",
       "        text-align: right;\n",
       "    }\n",
       "</style>\n",
       "<table border=\"1\" class=\"dataframe\">\n",
       "  <thead>\n",
       "    <tr style=\"text-align: right;\">\n",
       "      <th></th>\n",
       "      <th>handle</th>\n",
       "      <th>name</th>\n",
       "      <th>content</th>\n",
       "      <th>replies</th>\n",
       "      <th>retweets</th>\n",
       "      <th>favorite</th>\n",
       "      <th>post_datetime</th>\n",
       "      <th>hashtags</th>\n",
       "    </tr>\n",
       "  </thead>\n",
       "  <tbody>\n",
       "    <tr>\n",
       "      <th>1498</th>\n",
       "      <td>@cheezit</td>\n",
       "      <td>CHEEZ-IT</td>\n",
       "      <td>Take a look at this new #Snapd thing we did. C...</td>\n",
       "      <td>638</td>\n",
       "      <td>675</td>\n",
       "      <td>8088</td>\n",
       "      <td>2019-02-18 06:05:00</td>\n",
       "      <td>Snapd</td>\n",
       "    </tr>\n",
       "    <tr>\n",
       "      <th>949</th>\n",
       "      <td>@Dis_CT</td>\n",
       "      <td>Bill</td>\n",
       "      <td>@goop @Delta @DeltaAssist why is Delta alignin...</td>\n",
       "      <td>0</td>\n",
       "      <td>0</td>\n",
       "      <td>2</td>\n",
       "      <td>2019-02-19 18:25:24</td>\n",
       "      <td>NaN</td>\n",
       "    </tr>\n",
       "    <tr>\n",
       "      <th>6276</th>\n",
       "      <td>@sophiasgalaxy</td>\n",
       "      <td>Sophiasgalaxy</td>\n",
       "      <td>Since Boeing and your president don’t care abo...</td>\n",
       "      <td>0</td>\n",
       "      <td>0</td>\n",
       "      <td>0</td>\n",
       "      <td>2019-03-14 18:22:33</td>\n",
       "      <td>Boeing737Max</td>\n",
       "    </tr>\n",
       "    <tr>\n",
       "      <th>3207</th>\n",
       "      <td>@jjonescomm</td>\n",
       "      <td>Jen Jones</td>\n",
       "      <td>@Delta had two great flights with you today. T...</td>\n",
       "      <td>1</td>\n",
       "      <td>0</td>\n",
       "      <td>0</td>\n",
       "      <td>2019-03-14 18:44:08</td>\n",
       "      <td>glutenfree</td>\n",
       "    </tr>\n",
       "    <tr>\n",
       "      <th>443</th>\n",
       "      <td>@boltyboy</td>\n",
       "      <td>Matthew Holt</td>\n",
       "      <td>@chrissyfarr @Estrellajrios Actually @Delta di...</td>\n",
       "      <td>0</td>\n",
       "      <td>0</td>\n",
       "      <td>4</td>\n",
       "      <td>2019-03-14 18:48:32</td>\n",
       "      <td>NaN</td>\n",
       "    </tr>\n",
       "    <tr>\n",
       "      <th>...</th>\n",
       "      <td>...</td>\n",
       "      <td>...</td>\n",
       "      <td>...</td>\n",
       "      <td>...</td>\n",
       "      <td>...</td>\n",
       "      <td>...</td>\n",
       "      <td>...</td>\n",
       "      <td>...</td>\n",
       "    </tr>\n",
       "    <tr>\n",
       "      <th>449</th>\n",
       "      <td>@laptoptravel</td>\n",
       "      <td>laptoptravel</td>\n",
       "      <td>@susanseaburg @Delta Southwest Airlines Announ...</td>\n",
       "      <td>0</td>\n",
       "      <td>0</td>\n",
       "      <td>0</td>\n",
       "      <td>2020-10-26 16:31:18</td>\n",
       "      <td>COVID | SWA | Southwest | Delta</td>\n",
       "    </tr>\n",
       "    <tr>\n",
       "      <th>12799</th>\n",
       "      <td>@laptoptravel</td>\n",
       "      <td>laptoptravel</td>\n",
       "      <td>@Delta Southwest Airlines Announces It Won’t B...</td>\n",
       "      <td>0</td>\n",
       "      <td>0</td>\n",
       "      <td>0</td>\n",
       "      <td>2020-10-26 16:31:46</td>\n",
       "      <td>FlyDelta | COVID | SWA | Southwest | Delta</td>\n",
       "    </tr>\n",
       "    <tr>\n",
       "      <th>9808</th>\n",
       "      <td>@loyaltyrocks</td>\n",
       "      <td>Brian Andrews</td>\n",
       "      <td>@Hotwire just lost a customer for life. Daught...</td>\n",
       "      <td>1</td>\n",
       "      <td>0</td>\n",
       "      <td>0</td>\n",
       "      <td>2020-10-26 16:32:19</td>\n",
       "      <td>COVID</td>\n",
       "    </tr>\n",
       "    <tr>\n",
       "      <th>11135</th>\n",
       "      <td>@MusIimHistory</td>\n",
       "      <td>Gerald</td>\n",
       "      <td>@ZarainDC @ABC @Delta Science says a mask make...</td>\n",
       "      <td>0</td>\n",
       "      <td>0</td>\n",
       "      <td>0</td>\n",
       "      <td>2020-10-26 16:48:57</td>\n",
       "      <td>NaN</td>\n",
       "    </tr>\n",
       "    <tr>\n",
       "      <th>13247</th>\n",
       "      <td>@LP02128</td>\n",
       "      <td>LP617</td>\n",
       "      <td>@DMVBlackLives @Delta Wow. Over a hat. He went...</td>\n",
       "      <td>2</td>\n",
       "      <td>0</td>\n",
       "      <td>3</td>\n",
       "      <td>2020-10-26 16:54:51</td>\n",
       "      <td>NaN</td>\n",
       "    </tr>\n",
       "  </tbody>\n",
       "</table>\n",
       "<p>57988 rows × 8 columns</p>\n",
       "</div>"
      ],
      "text/plain": [
       "               handle           name  \\\n",
       "1498         @cheezit       CHEEZ-IT   \n",
       "949           @Dis_CT           Bill   \n",
       "6276   @sophiasgalaxy  Sophiasgalaxy   \n",
       "3207      @jjonescomm      Jen Jones   \n",
       "443         @boltyboy   Matthew Holt   \n",
       "...               ...            ...   \n",
       "449     @laptoptravel   laptoptravel   \n",
       "12799   @laptoptravel   laptoptravel   \n",
       "9808    @loyaltyrocks  Brian Andrews   \n",
       "11135  @MusIimHistory         Gerald   \n",
       "13247        @LP02128          LP617   \n",
       "\n",
       "                                                 content  replies  retweets  \\\n",
       "1498   Take a look at this new #Snapd thing we did. C...      638       675   \n",
       "949    @goop @Delta @DeltaAssist why is Delta alignin...        0         0   \n",
       "6276   Since Boeing and your president don’t care abo...        0         0   \n",
       "3207   @Delta had two great flights with you today. T...        1         0   \n",
       "443    @chrissyfarr @Estrellajrios Actually @Delta di...        0         0   \n",
       "...                                                  ...      ...       ...   \n",
       "449    @susanseaburg @Delta Southwest Airlines Announ...        0         0   \n",
       "12799  @Delta Southwest Airlines Announces It Won’t B...        0         0   \n",
       "9808   @Hotwire just lost a customer for life. Daught...        1         0   \n",
       "11135  @ZarainDC @ABC @Delta Science says a mask make...        0         0   \n",
       "13247  @DMVBlackLives @Delta Wow. Over a hat. He went...        2         0   \n",
       "\n",
       "       favorite       post_datetime  \\\n",
       "1498       8088 2019-02-18 06:05:00   \n",
       "949           2 2019-02-19 18:25:24   \n",
       "6276          0 2019-03-14 18:22:33   \n",
       "3207          0 2019-03-14 18:44:08   \n",
       "443           4 2019-03-14 18:48:32   \n",
       "...         ...                 ...   \n",
       "449           0 2020-10-26 16:31:18   \n",
       "12799         0 2020-10-26 16:31:46   \n",
       "9808          0 2020-10-26 16:32:19   \n",
       "11135         0 2020-10-26 16:48:57   \n",
       "13247         3 2020-10-26 16:54:51   \n",
       "\n",
       "                                         hashtags  \n",
       "1498                                        Snapd  \n",
       "949                                           NaN  \n",
       "6276                                 Boeing737Max  \n",
       "3207                                   glutenfree  \n",
       "443                                           NaN  \n",
       "...                                           ...  \n",
       "449               COVID | SWA | Southwest | Delta  \n",
       "12799  FlyDelta | COVID | SWA | Southwest | Delta  \n",
       "9808                                        COVID  \n",
       "11135                                         NaN  \n",
       "13247                                         NaN  \n",
       "\n",
       "[57988 rows x 8 columns]"
      ]
     },
     "execution_count": 277,
     "metadata": {},
     "output_type": "execute_result"
    }
   ],
   "source": [
    "Tweets"
   ]
  },
  {
   "cell_type": "code",
   "execution_count": 224,
   "metadata": {},
   "outputs": [
    {
     "name": "stdout",
     "output_type": "stream",
     "text": [
      "{'neg': 0.06056494447126975, 'neu': 0.7917164240877453, 'pos': 0.1477178554183637, 'compound': 0.22504458508656536}\n"
     ]
    }
   ],
   "source": [
    "#let's see how sentiment intensity analyzer works first, to see how cleaning the text will affect its scoring.\n",
    "from vaderSentiment.vaderSentiment import SentimentIntensityAnalyzer\n",
    "sentiment_intensity = []\n",
    "analyzer = SentimentIntensityAnalyzer()\n",
    "for sentence in Tweets.content:\n",
    "    vs = analyzer.polarity_scores(sentence)\n",
    "    sentiment_intensity.append(vs)\n",
    "    \n",
    "#now let's get the average sentiment scores on our un-cleaned text data to get an idea on how vader performs \n",
    "from collections import defaultdict\n",
    "avgDict = defaultdict(list)\n",
    "\n",
    "for eachdict in sentiment_intensity:\n",
    "    for sentiment, rating in eachdict.items():\n",
    "        avgDict[sentiment].append(rating)\n",
    "averages = {sentiment: sum(ratings) / len(ratings) for sentiment, ratings in avgDict.items()}\n",
    "\n",
    "print(averages)   "
   ]
  },
  {
   "cell_type": "code",
   "execution_count": 154,
   "metadata": {},
   "outputs": [],
   "source": [
    "#ok great now let's clean the data and compare those scores."
   ]
  },
  {
   "cell_type": "code",
   "execution_count": 155,
   "metadata": {},
   "outputs": [],
   "source": [
    "# I'll create a dictionary to replace common acronyms and abbreviations with their full words, due to twitter character limit.\n",
    "CONTRACTION_MAP = {\n",
    "\"ain’t\": \"is not\",\n",
    "\"aren’t\": \"are not\",\n",
    "\"can’t\": \"cannot\",\n",
    "\"can’t’ve\": \"cannot have\",\n",
    "\"could’ve\": \"could have\",\n",
    "\"couldn’t\": \"could not\",\n",
    "\"couldn’t’ve\": \"could not have\",\n",
    "\"didn’t\": \"did not\",\n",
    "\"doesn’t\": \"does not\",\n",
    "\"don’t\": \"do not\",\n",
    "\"hadn’t\": \"had not\",\n",
    "\"hadn’t’ve\": \"had not have\",\n",
    "\"hasn’t\": \"has not\",\n",
    "\"haven’t\": \"have not\",\n",
    "\"he’d\": \"he would\",\n",
    "\"he’d’ve\": \"he would have\",\n",
    "\"he’ll\": \"he will\",\n",
    "\"he’ll’ve\": \"he he will have\",\n",
    "\"he’s\": \"he is\",\n",
    "\"how’d\": \"how did\",\n",
    "\"how’d’y\": \"how do you\",\n",
    "\"how’ll\": \"how will\",\n",
    "\"how’s\": \"how is\",\n",
    "\"I’d\": \"I would\",\n",
    "\"I’d’ve\": \"I would have\",\n",
    "\"I’ll\": \"I will\",\n",
    "\"I’ll’ve\": \"I will have\",\n",
    "\"I’m\": \"I am\",\n",
    "\"I’ve\": \"I have\",\n",
    "\"i’d\": \"i would\",\n",
    "\"i’d've\": \"i would have\",\n",
    "\"i’ll\": \"i will\",\n",
    "\"i’ll’ve\": \"i will have\",\n",
    "\"i’m\": \"i am\",\n",
    "\"i’ve\": \"i have\",\n",
    "\"isn’t\": \"is not\",\n",
    "\"it’d\": \"it would\",\n",
    "\"it’d’ve\": \"it would have\",\n",
    "\"it’ll\": \"it will\",\n",
    "\"it’ll’ve\": \"it will have\",\n",
    "\"it’s\": \"it is\",\n",
    "\"let’s\": \"let us\",\n",
    "\"ma’am\": \"madam\",\n",
    "\"mayn’t\": \"may not\",\n",
    "\"might’ve\": \"might have\",\n",
    "\"mightn’t\": \"might not\",\n",
    "\"mightn’t’ve\": \"might not have\",\n",
    "\"must’ve\": \"must have\",\n",
    "\"mustn’t\": \"must not\",\n",
    "\"mustn’t’ve\": \"must not have\",\n",
    "\"needn’t\": \"need not\",\n",
    "\"needn’t’ve\": \"need not have\",\n",
    "\"oughtn’t\": \"ought not\",\n",
    "\"oughtn’t’ve\": \"ought not have\",\n",
    "\"shan’t\": \"shall not\",\n",
    "\"sha’n’t\": \"shall not\",\n",
    "\"shan’t’ve\": \"shall not have\",\n",
    "\"she’d\": \"she would\",\n",
    "\"she’d’ve\": \"she would have\",\n",
    "\"she’ll\": \"she will\",\n",
    "\"she’ll’ve\": \"she will have\",\n",
    "\"she’s\": \"she is\",\n",
    "\"should’ve\": \"should have\",\n",
    "\"shouldn’t\": \"should not\",\n",
    "\"shouldn’t’ve\": \"should not have\",\n",
    "\"so’ve\": \"so have\",\n",
    "\"that’d\": \"that would\",\n",
    "\"that’d’ve\": \"that would have\",\n",
    "\"that’s\": \"that is\",\n",
    "\"there’d\": \"there would\",\n",
    "\"there’d’ve\": \"there would have\",\n",
    "\"there’s\": \"there is\",\n",
    "\"they’d\": \"they would\",\n",
    "\"they’d’ve\": \"they would have\",\n",
    "\"they’ll\": \"they will\",\n",
    "\"they’ll’ve\": \"they will have\",\n",
    "\"they’re\": \"they are\",\n",
    "\"they’ve\": \"they have\",\n",
    "\"to’ve\": \"to have\",\n",
    "\"wasn’t\": \"was not\",\n",
    "\"we’d\": \"we would\",\n",
    "\"we’d’ve\": \"we would have\",\n",
    "\"we’ll\": \"we will\",\n",
    "\"we’ll’ve\": \"we will have\",\n",
    "\"we’re\": \"we are\",\n",
    "\"we’ve\": \"we have\",\n",
    "\"weren’t\": \"were not\",\n",
    "\"what’ll\": \"what will\",\n",
    "\"what’ll’ve\": \"what will have\",\n",
    "\"what’re\": \"what are\",\n",
    "\"what’s\": \"what is\",\n",
    "\"what’ve\": \"what have\",\n",
    "\"when’s\": \"when is\",\n",
    "\"when’ve\": \"when have\",\n",
    "\"where’d\": \"where did\",\n",
    "\"where’s\": \"where is\",\n",
    "\"where’ve\": \"where have\",\n",
    "\"who’ll\": \"who will\",\n",
    "\"who’ll’ve\": \"who will have\",\n",
    "\"who’s\": \"who is\",\n",
    "\"who’ve\": \"who have\",\n",
    "\"why’s\": \"why is\",\n",
    "\"why’ve\": \"why have\",\n",
    "\"will’ve\": \"will have\",\n",
    "\"won’t\": \"will not\",\n",
    "\"won’t’ve\": \"will not have\",\n",
    "\"would’ve\": \"would have\",\n",
    "\"wouldn’t\": \"would not\",\n",
    "\"wouldn’t’ve\": \"would not have\",\n",
    "\"y’all\": \"you all\",\n",
    "\"y’all'd\": \"you all would\",\n",
    "\"y’all'd've\": \"you all would have\",\n",
    "\"y’all're\": \"you all are\",\n",
    "\"y’all've\": \"you all have\",\n",
    "\"you’d\": \"you would\",\n",
    "\"you’d’ve\": \"you would have\",\n",
    "\"you’ll\": \"you will\",\n",
    "\"you’ll’ve\": \"you will have\",\n",
    "\"you’re\": \"you are\",\n",
    "\"you’ve\": \"you have\",\n",
    "'DM': 'direct message', 'RT': 'Retweet', 'PRT': 'Please retweet', 'MT': 'Modified tweet', 'CC': 'Carbon-copy', 'CX': 'customer experience', 'EM': 'Email Marketing', 'TBH': 'to be honest', 'WFH': 'work from home', 'SEO': 'Search Engine Optimization', 'SROI': 'Social Return on Investment', 'SN': 'Social Network', 'YT': 'YouTube', 'UGC': 'User Generated Content', 'SMO': 'Social Media Optimization', 'FB': 'Facebook', 'LI': 'LinkedIn', 'SM': 'Social Media', 'SMM': 'Social Media Marketing', 'EZine': 'Electronic Magazine', 'BGD': 'Background', 'CD': 'Code , parents are around', 'BTW': 'By the way', 'ABT': 'About', 'DD': 'Dear daughter', 'AFAIK': 'As far as I know', 'AYFKMWTS': 'Are you fucking kidding me with this', 'BR': 'Best regards', 'CHK': 'Check', 'CULR': 'See you later', 'FML': 'Fuck my life', 'FUBAR': 'Fucked up beyond all repair', 'BBFN': 'Bye for now', 'B4': 'Before', 'FF': 'Follow Friday', 'EMA': 'Email address', 'DYK': 'Did you know', 'FTF': 'Face to face', 'HAGN': 'Have a good night', 'DAM': 'Don’t annoy me', 'FFS': 'For Fucks Sake', 'EML': 'Email', 'FOTD': 'Find of the day', 'FTW': 'For the win', 'FWIW': 'For what it’s worth', 'HTH': 'Hope that helps', 'GMAFB': 'Give me a fucking break', 'ICYMI': 'In case you missed it', 'GTFOOH': 'Get the fuck out of here', 'GTS': 'Guess the song', 'HOTD': 'Headline of the day', 'IIRC': 'If I remember correctly', 'KYSO': 'Knock your socks off', 'KK': 'ok', 'HT': 'Heard through', 'IDK': 'I don’t know', 'IDC': 'I don’t care', 'LHH': 'Laugh hella hard', 'ZOMG': 'OMG to the max', 'IMHO': 'In my humble opinion', 'NFW': 'No fucking way', 'ORLY': 'Oh really', 'YOYO': 'You’re on your own', 'LMAO': 'Laughing my ass off', 'IRL': 'In real life', 'JK': 'Just kidding', 'JV': 'Joint venture', 'LOL': 'Laugh out loud', 'LMK': 'Let me know', 'JSYK': 'Just so you know', 'NSW': 'Not safe work', 'NSFW': 'Not safe for work', 'MRJN': 'Marijuana', 'MIRL': 'Meet in real life', 'NCT': 'Nobody cares, though', 'RLRT': 'Real-life re-tweet', 'NBD': 'no big deal', 'OMFG': 'Oh my fucking God', 'PNP': 'Party and Play', 'QOTD': 'quote of the day', 'RE': 'regarding', 'RTQ': 'Read the question', 'NM': 'not much', 'PPL': 'people', 'SFW': 'Safe for work', 'OOMF': 'One of my friends', 'NTS': 'Note to self', 'RTFM': 'Read the fucking manual', 'SMH': 'Shaking my head', 'STFW': 'Search the fucking web', 'TFTT': 'Thanks for this tweet', 'TFTF': 'Thanks for the follow', 'TY': 'Thank you', 'SRSLY': 'Seriously', 'SRS': 'Serious', 'SMDH': 'Shaking my damn head', 'STFU': 'Shut the fuck up', 'TL': 'Timeline', 'TYIA': 'Thank you in advance', 'TT': 'Trending topic', 'W': 'With', 'W/': 'with', 'TLDR': 'Too long didn’t read', 'TL;DR': 'Too long didn’t read', 'TMB': 'Tweet me back', 'TYVW': 'Thank you very much', 'WTV': 'Whatever', 'YMMV': 'Your mileage may vary', 'YW': 'You’re welcome', 'YKYAT': 'You know you’re addicted to', 'W/E': 'Whatever or weekend', 'TYT': 'Take your time', 'YKWIM': 'You know what I mean', 'YOLO': 'You only live once', 'YGTR': 'You got that right', 'H8': 'hate', 'GR8': 'great', 'HIFW': 'How I feel when', 'FOMO': 'fear of missing out', 'HMU': 'Hit me up', 'IMO': 'in my opinion', 'IKR': 'I know right', '4U': 'For you', 'RU': 'are you', 'adorb': 'adorable', 'adorbs': 'adorable', 'alc': 'alcohol', 'awk': 'awkward', 'awks': 'awkward', 'choreo': 'choreography', 'collab': 'collaboration', 'cray': 'crazy', 'craycray': 'crazy', 'defs': 'definitely', 'delish': 'delicious', 'fams': 'family', 'gorg': 'gorgeous', 'hilar': 'hilarious', 'hilars': 'hilarious', 'jellz': 'jealous', 'liq': 'liquor', 'merch': 'merchandise', 'milli': 'million', 'obvi': 'obvious', 'perf': 'perfect', 'presh': 'precious', 'pregs': 'pregnant', 'probs': 'probably'\n",
    "}\n",
    "#fullwords = {k.lower(): v for k, v in fullwords.items()}"
   ]
  },
  {
   "cell_type": "code",
   "execution_count": 183,
   "metadata": {},
   "outputs": [
    {
     "name": "stdout",
     "output_type": "stream",
     "text": [
      "['Take a look at this new #Snapd thing we did. Closer. Closer. No, closer. Lick the screen. Wait, what. https://t.co/QHvSLCD9BK', '@goop @Delta @DeltaAssist why is Delta aligning with pseudo science?', 'Since Boeing and your president don’t care about your safety, I suggest that if you fly you make sure you are not on a #Boeing737Max. Every flight lists the airplane on that route. I suggest you do your research and avoid that plane. I’m going to. BTW @Delta doesn’t fly them.', '@Delta had two great flights with you today. The #glutenfree snack mix was such a treat! Please keep this item for your most appreciative gf customers. Flight attendant from Minneapolis to Kansas City was incredibly nice. Good articles on gender parity too in Sky.', '@chrissyfarr @Estrellajrios Actually @Delta did this in the 90s. Note how health care costs have plummeted in the meanwhile', '@_theAustinBrown @Delta Hard to figure, especially if a seat was open. Makes no sense. Pray for safe travels for all!', 'Also, real quick. I never pay attention to the safety videos on flights, but I happened to look up today and see a man with a prosthetic leg on @Delta’s video. I was really happy to see that kind of inclusion!', '@Delta Our comfort+ seats LAX-LAS better than FC PDX-LAX tonight. 2 hrs in FC w/ 1 snack, 1 soda, 1 rude FA. Not a fan right now. 😕', '@Delta Not yet, I’m being considerate of other passengers so she can finish the rounds of snacks and beverages and we can find it. A late flight and missing license cannot steal my joy :)', '@tyanvo Thank you for following up. We truly appreciate this information, please be safe! HSL']\n"
     ]
    }
   ],
   "source": [
    "#let's clean up the apostrophes so we have consistent formatting throughout.\n",
    "clean_text = []\n",
    "for sentence in Tweets.content:\n",
    "    new = sentence.replace(r\"'\", r\"’\")\n",
    "    clean_text.append(new)\n",
    "print(clean_text[0:10])"
   ]
  },
  {
   "cell_type": "code",
   "execution_count": 184,
   "metadata": {},
   "outputs": [
    {
     "name": "stdout",
     "output_type": "stream",
     "text": [
      "['Take a look at this new #Snapd thing we did. Closer. Closer. No, closer. Lick the screen. Wait, what. https://t.co/QHvSLCD9BK', '@goop @Delta @DeltaAssist why is Delta aligning with pseudo science?', 'Since Boeing and your president do not care about your safety, I suggest that if you fly you make sure you are not on a #Boeing737Max. Every flight lists the airplane on that route. I suggest you do your research and avoid that plane. I am going to. By the way @Delta does not fly them.', '@Delta had two great flights with you today. The #glutenfree snack mix was such a treat! Please keep this item for your most appreciative gf customers. Flight attendant from Minneapolis to Kansas City was incredibly nice. Good articles on gender parity too in Sky.', '@chrissyfarr @Estrellajrios Actually @Delta did this in the 90s. Note how health care costs have plummeted in the meanwhile', '@_theAustinBrown @Delta Hard to figure, especially if a seat was open. Makes no sense. Pray for safe travels for all!', 'Also, real quick. I never pay attention to the safety videos on flights, but I happened to look up today and see a man with a prosthetic leg on @Delta’s video. I was really happy to see that kind of inclusion!', '@Delta Our comfort+ seats LAX-LAS better than FC PDX-LAX tonight. 2 hrs in FC w/ 1 snack, 1 soda, 1 rude FA. Not a fan right now. 😕', '@Delta Not yet, I am being considerate of other passengers so she can finish the rounds of snacks and beverages and we can find it. A late flight and missing license cannot steal my joy :)', '@tyanvo Thank you for following up. We truly appreciate this information, please be safe! HSL']\n"
     ]
    }
   ],
   "source": [
    "#now let's lengthen any abbreviations and contractions.\n",
    "clean_text2 = []\n",
    "for sentence in clean_text:\n",
    "  for word in sentence.split():\n",
    "    if word in CONTRACTION_MAP: \n",
    "      sentence = sentence.replace(word, CONTRACTION_MAP[word])\n",
    "  clean_text2.append(sentence)\n",
    "print(clean_text2[0:10])"
   ]
  },
  {
   "cell_type": "code",
   "execution_count": 185,
   "metadata": {},
   "outputs": [
    {
     "name": "stdout",
     "output_type": "stream",
     "text": [
      "{'neg': 0.06048251362350772, 'neu': 0.7941644650617379, 'pos': 0.14535245223149665, 'compound': 0.21986427364281963}\n"
     ]
    }
   ],
   "source": [
    "\n",
    "from vaderSentiment.vaderSentiment import SentimentIntensityAnalyzer\n",
    "sentiment_intensity = []\n",
    "analyzer = SentimentIntensityAnalyzer()\n",
    "for sentence in clean_text2:\n",
    "    vs = analyzer.polarity_scores(sentence)\n",
    "    sentiment_intensity.append(vs)\n",
    "    avgDict = defaultdict(list)\n",
    "\n",
    "for eachdict in sentiment_intensity:\n",
    "    for sentiment, rating in eachdict.items():\n",
    "        avgDict[sentiment].append(rating)\n",
    "averagesfullwords  = {sentiment: sum(ratings) / len(ratings) for sentiment, ratings in avgDict.items()}\n",
    "\n",
    "print(averagesfullwords)\n",
    "#did that change the sentiment? not really... "
   ]
  },
  {
   "cell_type": "code",
   "execution_count": 186,
   "metadata": {},
   "outputs": [],
   "source": [
    "#let's try replacing all of the stopwords in the text to unclutter the data.\n",
    "from nltk.corpus import stopwords\n",
    "stopcorpus = stopwords.words('english')\n",
    "#ok looks like I need to reformat this to have the same apostrophe as the text\n",
    "stopwords = []\n",
    "for sentence in stopcorpus:\n",
    "    new = sentence.replace(r\"'\", r\"’\")\n",
    "    stopwords.append(new)\n",
    "\n",
    "import typing\n",
    "def remove_words(text_data:str,list_of_words_to_remove: typing.List):\n",
    "    # Remove all words as specified in a custom list of words\n",
    "    for item in text_data:\n",
    "        return [item for item in text_data if item not in list_of_words_to_remove]\n",
    "\n",
    "Tweets['cleaned_text'] = clean_text2\n",
    "Tweets['cleaned_text']= Tweets['cleaned_text'].astype(str).apply(lambda x: remove_words(x.split(),stopwords))\n"
   ]
  },
  {
   "cell_type": "code",
   "execution_count": 160,
   "metadata": {},
   "outputs": [
    {
     "data": {
      "text/plain": [
       "1498     [Take, look, new, #Snapd, thing, did., Closer....\n",
       "949      [@goop, @Delta, @DeltaAssist, Delta, aligning,...\n",
       "6276     [Since, Boeing, president, care, safety,, I, s...\n",
       "3207     [@Delta, two, great, flights, today., The, #gl...\n",
       "443      [@chrissyfarr, @Estrellajrios, Actually, @Delt...\n",
       "                               ...                        \n",
       "449      [@susanseaburg, @Delta, Southwest, Airlines, A...\n",
       "12799    [@Delta, Southwest, Airlines, Announces, It, W...\n",
       "9808     [@Hotwire, lost, customer, life., Daughter, ex...\n",
       "11135    [@ZarainDC, @ABC, @Delta, Science, says, mask,...\n",
       "13247    [@DMVBlackLives, @Delta, Wow., Over, hat., He,...\n",
       "Name: cleaned_text, Length: 57988, dtype: object"
      ]
     },
     "execution_count": 160,
     "metadata": {},
     "output_type": "execute_result"
    }
   ],
   "source": [
    "Tweets['cleaned_text']"
   ]
  },
  {
   "cell_type": "code",
   "execution_count": 187,
   "metadata": {},
   "outputs": [
    {
     "name": "stdout",
     "output_type": "stream",
     "text": [
      "{'neg': 0.002887373249637858, 'neu': 0.9881655514934099, 'pos': 0.008947144236738666, 'compound': 0.006985453887011123}\n"
     ]
    }
   ],
   "source": [
    "sentiment_intensity = []\n",
    "analyzer = SentimentIntensityAnalyzer()\n",
    "for sentence in Tweets['cleaned_text']:\n",
    "    vs = analyzer.polarity_scores(sentence)\n",
    "    sentiment_intensity.append(vs)\n",
    "    \n",
    "avgDict = defaultdict(list)\n",
    "\n",
    "for eachdict in sentiment_intensity:\n",
    "    for sentiment, rating in eachdict.items():\n",
    "        avgDict[sentiment].append(rating)\n",
    "averagesforstop  = {sentiment: sum(ratings) / len(ratings) for sentiment, ratings in avgDict.items()}\n",
    "\n",
    "print(averagesforstop)\n",
    "#well that changed the sentiment in a really bad way. Everything is suddenly completely neutral \n",
    "#and therefore possibly unusable? I'll save this for a wordcloud or something else later then. "
   ]
  },
  {
   "cell_type": "code",
   "execution_count": 162,
   "metadata": {},
   "outputs": [
    {
     "name": "stdout",
     "output_type": "stream",
     "text": [
      "['take a look at this new #snapd thing we did. closer. closer. no, closer. lick the screen. wait, what. https://t.co/qhvslcd9bk', '@goop @delta @deltaassist why is delta aligning with pseudo science?', 'since boeing and your president do not care about your safety, i suggest that if you fly you make sure you are not on a #boeing737max. every flight lists the airplane on that route. i suggest you do your research and avoid that plane. i am going to. by the way @delta does not fly them.']\n"
     ]
    }
   ],
   "source": [
    "#Let's get rid of the mentions, URLS, stopwords and maybe even hashes\n",
    "lower_text = [i.lower() for i in clean_text2]\n",
    "print(lower_text[0:3])"
   ]
  },
  {
   "cell_type": "code",
   "execution_count": 163,
   "metadata": {},
   "outputs": [],
   "source": [
    "#trial = re.sub(^http \\s$, '', new)\n",
    "#^ as a character that designates starts with and $ as shows the end and \\s as a space\n",
    "#regex= re.compile(r\"http[s]*\" % re.escape(string.punctuation))\n",
    "import re\n",
    "nourl= [] \n",
    "for i in clean_text2:\n",
    "    new_token = re.sub(r\"http\\S+\" , \"\", i)\n",
    "    if not new_token == u'':\n",
    "        nourl.append(new_token)\n",
    "\n",
    "nomentions= [] \n",
    "for i in nourl:\n",
    "    new_token = re.sub(r\"@\\S+\" , \"\", i)\n",
    "    if not new_token == u'':\n",
    "        nomentions.append(new_token)\n",
    "\n",
    "notags= [] \n",
    "for i in nomentions:\n",
    "    new_token = re.sub(r\"#\\S+\" , \"\", i)\n",
    "    if not new_token == u'':\n",
    "        notags.append(new_token)"
   ]
  },
  {
   "cell_type": "code",
   "execution_count": 164,
   "metadata": {},
   "outputs": [
    {
     "name": "stdout",
     "output_type": "stream",
     "text": [
      "{'neg': 0.06056494447126975, 'neu': 0.7917164240877453, 'pos': 0.1477178554183637, 'compound': 0.22504458508656536} {'neg': 0.06772252320645976, 'neu': 0.7605966734531898, 'pos': 0.16203537044066557, 'compound': 0.2075005176162026}\n"
     ]
    }
   ],
   "source": [
    "#did it change now?\n",
    "sentiment_intensity_cleaned = []\n",
    "analyzer = SentimentIntensityAnalyzer()\n",
    "for sentence in notags:\n",
    "    vs = analyzer.polarity_scores(sentence)\n",
    "    sentiment_intensity_cleaned.append(vs)\n",
    "    \n",
    "\n",
    "nextavgDict = defaultdict(list)\n",
    "\n",
    "for eachdict in sentiment_intensity_cleaned:\n",
    "    for sentiment, rating in eachdict.items():\n",
    "        nextavgDict[sentiment].append(rating)\n",
    "clean_averages = {sentiment: sum(ratings) / len(ratings) for sentiment, ratings in nextavgDict.items()}\n",
    "\n",
    "print(averages, clean_averages)"
   ]
  },
  {
   "cell_type": "code",
   "execution_count": 165,
   "metadata": {},
   "outputs": [],
   "source": [
    "#hm. so it looks like cleaning the data to get rid of symbols and punctuation does change the sentiment by a small \n",
    "#amount, and specifically it made positive sentiment go up away from neutral, more than changing negative. \n",
    "# it seems most likely that getting rid of the punctuation may have contributed to the algorithm seeing URLs \n",
    "#(which might be considered neutral) and lessening that. I wonder if there is more sentiment in the hashtags- let's look"
   ]
  },
  {
   "cell_type": "code",
   "execution_count": 280,
   "metadata": {},
   "outputs": [],
   "source": [
    "#get sentiment for each individual Tweet and append into a column\n",
    "sentiment_intensity_each = []\n",
    "analyzer = SentimentIntensityAnalyzer()\n",
    "for sentence in Tweets.content:\n",
    "    vs = analyzer.polarity_scores(sentence)\n",
    "    sentiment_intensity_each.append(vs)\n",
    "Tweets['sentiment_score'] = sentiment_intensity_each"
   ]
  },
  {
   "cell_type": "code",
   "execution_count": 281,
   "metadata": {},
   "outputs": [],
   "source": [
    "#create a column on just dates so i can filter sentiment by date of post.\n",
    "by_day = Tweets['post_datetime'].to_list()\n",
    "datetimevers = []\n",
    "for x in by_day:\n",
    "    datetimevers.append(x.to_pydatetime())\n",
    "just_date =[]\n",
    "for x in datetimevers:\n",
    "    just_date.append(x.strftime('%m/%d/%Y'))\n",
    "Tweets['date_only'] = just_date"
   ]
  },
  {
   "cell_type": "code",
   "execution_count": 282,
   "metadata": {},
   "outputs": [],
   "source": [
    "#compound score is the most indicative as a general score, so let's add just a column of those scores only.\n",
    "scores = Tweets['sentiment_score'].to_list()\n",
    "compound_scores = [x['compound'] for x in scores]   \n",
    "Tweets['compound'] = compound_scores"
   ]
  },
  {
   "cell_type": "code",
   "execution_count": 259,
   "metadata": {},
   "outputs": [
    {
     "data": {
      "text/plain": [
       "Text(0, 0.5, 'score')"
      ]
     },
     "execution_count": 259,
     "metadata": {},
     "output_type": "execute_result"
    },
    {
     "data": {
      "image/png": "[encoded data removed]",
      "text/plain": [
       "<Figure size 432x288 with 1 Axes>"
      ]
     },
     "metadata": {
      "needs_background": "light"
     },
     "output_type": "display_data"
    }
   ],
   "source": [
    "#good. now I want to graph the scores just to get another visualization.\n",
    "import seaborn as sns\n",
    "import matplotlib.pyplot as plt\n",
    "sns.stripplot(x = 'date_only', y = 'compound', data = Tweets, size=.4, jitter=True)\n",
    "plt.xlabel('date')\n",
    "plt.ylabel('score')\n",
    "#although this graph is hard to read because it is plotting thousands of tweets,\n",
    "#what is clear is that there is a date perdiod (teal blue color) that has A LOT more tweets than the others. \n",
    "#The sheer volume of tweets in some is enough to make the entire plot section of that day look like a line.\n",
    "#there are a few other days, like those in purple etc. "
   ]
  },
  {
   "cell_type": "code",
   "execution_count": 301,
   "metadata": {},
   "outputs": [],
   "source": [
    "#let's try grouping by week intervals to make it a little easier to read.\n",
    "# but, in order to create these weekly intervals, I need to average out the  scores.\n",
    "Tweets['Datetime'] = pd.to_datetime(Tweets['post_datetime'])\n",
    "Tweets = Tweets.set_index('Datetime')\n",
    "weeks = pd.Int64Index(Tweets.index.isocalendar().week)\n",
    "weekly_avg= Tweets.groupby(weeks).compound.mean()"
   ]
  },
  {
   "cell_type": "code",
   "execution_count": 327,
   "metadata": {},
   "outputs": [
    {
     "data": {
      "image/png": "[encoded data removed]",
      "text/plain": [
       "<Figure size 432x288 with 1 Axes>"
      ]
     },
     "metadata": {
      "needs_background": "light"
     },
     "output_type": "display_data"
    }
   ],
   "source": [
    "#let's get a visual representation of sentiment scores for a given time: Tweets['2020-08-01']\n",
    "#what does it look like for the whole dataframe from pre covid vs. post covid? does it trend up or down at all?\n",
    "overall = Tweets['compound']\n",
    "fig = plt.plot(overall['2020-03-01': '2020-06-01'], color= 'red', label= 'sentiment score')\n",
    "plt.show()"
   ]
  },
  {
   "cell_type": "code",
   "execution_count": 329,
   "metadata": {},
   "outputs": [
    {
     "data": {
      "image/png": "[encoded data removed]",
      "text/plain": [
       "<Figure size 432x288 with 1 Axes>"
      ]
     },
     "metadata": {
      "needs_background": "light"
     },
     "output_type": "display_data"
    }
   ],
   "source": [
    "plt.plot(overall['2019-03-01': '2019-06-01'], color= 'blue', label= 'sentiment score')\n",
    "plt.show()"
   ]
  },
  {
   "cell_type": "code",
   "execution_count": 314,
   "metadata": {},
   "outputs": [],
   "source": [
    "#Ok so it looks like the earliest date I have is August 03. Now let's try to break this up into chunks of \n",
    "#weekly, two week intervals and monthly intervals.\n",
    "\n",
    "AllAug= Tweets['2020-08-01': '2020-08-31']\n",
    "AllSept= Tweets['2020-09-01': '2020-09-30']\n",
    "AllOct= Tweets['2020-10-02': '2020-10-31']\n",
    "covid_lockdown = Tweets['2020-03-10' : '2020-04-30']"
   ]
  },
  {
   "cell_type": "code",
   "execution_count": 318,
   "metadata": {},
   "outputs": [
    {
     "name": "stdout",
     "output_type": "stream",
     "text": [
      "{'neg': 0.0444183329588855, 'neu': 0.8111610424623684, 'pos': 0.14442206245787417, 'compound': 0.25652199056392366}\n"
     ]
    }
   ],
   "source": [
    "covSent = []\n",
    "analyzer = SentimentIntensityAnalyzer()\n",
    "for sentence in covid_lockdown.content:\n",
    "    vs = analyzer.polarity_scores(sentence)\n",
    "    covSent.append(vs)\n",
    "    \n",
    "avgDict = defaultdict(list)\n",
    "\n",
    "for eachdict in covSent:\n",
    "    for sentiment, rating in eachdict.items():\n",
    "        avgDict[sentiment].append(rating)\n",
    "covid_lockdownAvg = {sentiment: sum(ratings) / len(ratings) for sentiment, ratings in avgDict.items()}\n",
    "print(covid_lockdownAvg)"
   ]
  },
  {
   "cell_type": "code",
   "execution_count": 317,
   "metadata": {
    "scrolled": true
   },
   "outputs": [
    {
     "name": "stdout",
     "output_type": "stream",
     "text": [
      "{'neg': 0.08598154895728348, 'neu': 0.7953327389720084, 'pos': 0.11868664237537788, 'compound': 0.07582142026513676}\n"
     ]
    }
   ],
   "source": [
    "AugSent = []\n",
    "analyzer = SentimentIntensityAnalyzer()\n",
    "for sentence in AllAug.content:\n",
    "    vs = analyzer.polarity_scores(sentence)\n",
    "    AugSent.append(vs)\n",
    "    \n",
    "avgDict = defaultdict(list)\n",
    "\n",
    "for eachdict in AugSent:\n",
    "    for sentiment, rating in eachdict.items():\n",
    "        avgDict[sentiment].append(rating)\n",
    "AugAvgSent = {sentiment: sum(ratings) / len(ratings) for sentiment, ratings in avgDict.items()}\n",
    "\n",
    "print(AugAvgSent)"
   ]
  },
  {
   "cell_type": "code",
   "execution_count": 168,
   "metadata": {},
   "outputs": [
    {
     "name": "stdout",
     "output_type": "stream",
     "text": [
      "{'neg': 0.07046914002393559, 'neu': 0.7882889382800474, 'pos': 0.14123781843050132, 'compound': 0.17026955035048702}\n"
     ]
    }
   ],
   "source": [
    "OctSent = []\n",
    "analyzer = SentimentIntensityAnalyzer()\n",
    "for sentence in AllOct.content:\n",
    "    vs = analyzer.polarity_scores(sentence)\n",
    "    OctSent.append(vs)\n",
    "    \n",
    "avgDict = defaultdict(list)\n",
    "\n",
    "for eachdict in OctSent:\n",
    "    for sentiment, rating in eachdict.items():\n",
    "        avgDict[sentiment].append(rating)\n",
    "OctAvgSent = {sentiment: sum(ratings) / len(ratings) for sentiment, ratings in avgDict.items()}\n",
    "\n",
    "print(OctAvgSent)"
   ]
  },
  {
   "cell_type": "code",
   "execution_count": 169,
   "metadata": {},
   "outputs": [
    {
     "name": "stdout",
     "output_type": "stream",
     "text": [
      "{'neg': 0.06598257735055563, 'neu': 0.7991141483929091, 'pos': 0.13490477620907185, 'compound': 0.20376326224091287}\n"
     ]
    }
   ],
   "source": [
    "SepSent = []\n",
    "analyzer = SentimentIntensityAnalyzer()\n",
    "for sentence in AllSept.content:\n",
    "    vs = analyzer.polarity_scores(sentence)\n",
    "    SepSent.append(vs)\n",
    "    \n",
    "avgDict = defaultdict(list)\n",
    "\n",
    "for eachdict in SepSent:\n",
    "    for sentiment, rating in eachdict.items():\n",
    "        avgDict[sentiment].append(rating)\n",
    "SepAvgSent = {sentiment: sum(ratings) / len(ratings) for sentiment, ratings in avgDict.items()}\n",
    "\n",
    "print(SepAvgSent)"
   ]
  },
  {
   "cell_type": "code",
   "execution_count": null,
   "metadata": {},
   "outputs": [],
   "source": []
  },
  {
   "cell_type": "code",
   "execution_count": null,
   "metadata": {},
   "outputs": [],
   "source": []
  },
  {
   "cell_type": "code",
   "execution_count": null,
   "metadata": {},
   "outputs": [],
   "source": []
  },
  {
   "cell_type": "code",
   "execution_count": null,
   "metadata": {},
   "outputs": [],
   "source": []
  },
  {
   "cell_type": "code",
   "execution_count": null,
   "metadata": {},
   "outputs": [],
   "source": []
  },
  {
   "cell_type": "code",
   "execution_count": null,
   "metadata": {},
   "outputs": [],
   "source": []
  },
  {
   "cell_type": "code",
   "execution_count": null,
   "metadata": {},
   "outputs": [],
   "source": []
  },
  {
   "cell_type": "code",
   "execution_count": null,
   "metadata": {},
   "outputs": [],
   "source": []
  }
 ],
 "metadata": {
  "kernelspec": {
   "display_name": "Python 3",
   "language": "python",
   "name": "python3"
  },
  "language_info": {
   "codemirror_mode": {
    "name": "ipython",
    "version": 3
   },
   "file_extension": ".py",
   "mimetype": "text/x-python",
   "name": "python",
   "nbconvert_exporter": "python",
   "pygments_lexer": "ipython3",
   "version": "3.7.6"
  }
 },
 "nbformat": 4,
 "nbformat_minor": 4
}
