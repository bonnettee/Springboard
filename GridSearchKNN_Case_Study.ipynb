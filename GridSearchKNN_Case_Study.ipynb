{
  "nbformat": 4,
  "nbformat_minor": 0,
  "metadata": {
    "kernelspec": {
      "display_name": "Python 3",
      "language": "python",
      "name": "python3"
    },
    "language_info": {
      "codemirror_mode": {
        "name": "ipython",
        "version": 3
      },
      "file_extension": ".py",
      "mimetype": "text/x-python",
      "name": "python",
      "nbconvert_exporter": "python",
      "pygments_lexer": "ipython3",
      "version": "3.7.6"
    },
    "colab": {
      "name": "GridSearchKNN_Case_Study.ipynb",
      "provenance": [],
      "include_colab_link": true
    }
  },
  "cells": [
    {
      "cell_type": "markdown",
      "metadata": {
        "id": "view-in-github",
        "colab_type": "text"
      },
      "source": [
        "<a href=\"https://colab.research.google.com/github/bonnettee/Springboard/blob/master/GridSearchKNN_Case_Study.ipynb\" target=\"_parent\"><img src=\"https://colab.research.google.com/assets/colab-badge.svg\" alt=\"Open In Colab\"/></a>"
      ]
    },
    {
      "cell_type": "markdown",
      "metadata": {
        "id": "9L7ow-ux3zqy"
      },
      "source": [
        "## Grid Search Hyperparameter optimization"
      ]
    },
    {
      "cell_type": "markdown",
      "metadata": {
        "id": "G5v2JijC3zq3"
      },
      "source": [
        "This case study is all about using grid searches to identify the optimal parameters for a machine learning algorithm. To complere this case study, you'll use the Pima Indian diabetes dataset from Kaggle and KNN. Follow along with the preprocessing steps of this case study."
      ]
    },
    {
      "cell_type": "markdown",
      "metadata": {
        "tags": [],
        "id": "G4AV9Ttf3zq4"
      },
      "source": [
        "Load the necessary packages"
      ]
    },
    {
      "cell_type": "code",
      "metadata": {
        "id": "0SLMXFpV3zq4"
      },
      "source": [
        "import numpy as np\n",
        "import pandas as pd\n",
        "import matplotlib.pyplot as plt\n",
        "import seaborn as sns\n",
        "sns.set()\n",
        "\n",
        "# set random seed to try make this exercise and solutions reproducible (NB: this is just for teaching purpose and not something you would do in real life)\n",
        "random_seed_number = 42\n",
        "np.random.seed(random_seed_number)"
      ],
      "execution_count": null,
      "outputs": []
    },
    {
      "cell_type": "markdown",
      "metadata": {
        "tags": [],
        "id": "tfWMs7uP3zq4"
      },
      "source": [
        "#### Load the diabetes data"
      ]
    },
    {
      "cell_type": "code",
      "metadata": {
        "id": "PjjArLF53zq5",
        "outputId": "57d55daf-01a7-493f-8860-0300f16fc916"
      },
      "source": [
        "diabetes_data = pd.read_csv('data/diabetes.csv')\n",
        "diabetes_data.head()"
      ],
      "execution_count": null,
      "outputs": [
        {
          "output_type": "execute_result",
          "data": {
            "text/html": [
              "<div>\n",
              "<style scoped>\n",
              "    .dataframe tbody tr th:only-of-type {\n",
              "        vertical-align: middle;\n",
              "    }\n",
              "\n",
              "    .dataframe tbody tr th {\n",
              "        vertical-align: top;\n",
              "    }\n",
              "\n",
              "    .dataframe thead th {\n",
              "        text-align: right;\n",
              "    }\n",
              "</style>\n",
              "<table border=\"1\" class=\"dataframe\">\n",
              "  <thead>\n",
              "    <tr style=\"text-align: right;\">\n",
              "      <th></th>\n",
              "      <th>Pregnancies</th>\n",
              "      <th>Glucose</th>\n",
              "      <th>BloodPressure</th>\n",
              "      <th>SkinThickness</th>\n",
              "      <th>Insulin</th>\n",
              "      <th>BMI</th>\n",
              "      <th>DiabetesPedigreeFunction</th>\n",
              "      <th>Age</th>\n",
              "      <th>Outcome</th>\n",
              "    </tr>\n",
              "  </thead>\n",
              "  <tbody>\n",
              "    <tr>\n",
              "      <th>0</th>\n",
              "      <td>6</td>\n",
              "      <td>148</td>\n",
              "      <td>72</td>\n",
              "      <td>35</td>\n",
              "      <td>0</td>\n",
              "      <td>33.6</td>\n",
              "      <td>0.627</td>\n",
              "      <td>50</td>\n",
              "      <td>1</td>\n",
              "    </tr>\n",
              "    <tr>\n",
              "      <th>1</th>\n",
              "      <td>1</td>\n",
              "      <td>85</td>\n",
              "      <td>66</td>\n",
              "      <td>29</td>\n",
              "      <td>0</td>\n",
              "      <td>26.6</td>\n",
              "      <td>0.351</td>\n",
              "      <td>31</td>\n",
              "      <td>0</td>\n",
              "    </tr>\n",
              "    <tr>\n",
              "      <th>2</th>\n",
              "      <td>8</td>\n",
              "      <td>183</td>\n",
              "      <td>64</td>\n",
              "      <td>0</td>\n",
              "      <td>0</td>\n",
              "      <td>23.3</td>\n",
              "      <td>0.672</td>\n",
              "      <td>32</td>\n",
              "      <td>1</td>\n",
              "    </tr>\n",
              "    <tr>\n",
              "      <th>3</th>\n",
              "      <td>1</td>\n",
              "      <td>89</td>\n",
              "      <td>66</td>\n",
              "      <td>23</td>\n",
              "      <td>94</td>\n",
              "      <td>28.1</td>\n",
              "      <td>0.167</td>\n",
              "      <td>21</td>\n",
              "      <td>0</td>\n",
              "    </tr>\n",
              "    <tr>\n",
              "      <th>4</th>\n",
              "      <td>0</td>\n",
              "      <td>137</td>\n",
              "      <td>40</td>\n",
              "      <td>35</td>\n",
              "      <td>168</td>\n",
              "      <td>43.1</td>\n",
              "      <td>2.288</td>\n",
              "      <td>33</td>\n",
              "      <td>1</td>\n",
              "    </tr>\n",
              "  </tbody>\n",
              "</table>\n",
              "</div>"
            ],
            "text/plain": [
              "   Pregnancies  Glucose  BloodPressure  SkinThickness  Insulin   BMI  \\\n",
              "0            6      148             72             35        0  33.6   \n",
              "1            1       85             66             29        0  26.6   \n",
              "2            8      183             64              0        0  23.3   \n",
              "3            1       89             66             23       94  28.1   \n",
              "4            0      137             40             35      168  43.1   \n",
              "\n",
              "   DiabetesPedigreeFunction  Age  Outcome  \n",
              "0                     0.627   50        1  \n",
              "1                     0.351   31        0  \n",
              "2                     0.672   32        1  \n",
              "3                     0.167   21        0  \n",
              "4                     2.288   33        1  "
            ]
          },
          "metadata": {
            "tags": []
          },
          "execution_count": 2
        }
      ]
    },
    {
      "cell_type": "markdown",
      "metadata": {
        "tags": [],
        "id": "VJNg3Fzp3zq5"
      },
      "source": [
        "**<font color='teal'> Start by reviewing the data info.</font>**"
      ]
    },
    {
      "cell_type": "code",
      "metadata": {
        "id": "ZDYG6dPh3zq6",
        "outputId": "7110bf47-543e-4933-f3ff-c25a545e7eba"
      },
      "source": [
        "diabetes_data.info()"
      ],
      "execution_count": null,
      "outputs": [
        {
          "output_type": "stream",
          "text": [
            "<class 'pandas.core.frame.DataFrame'>\n",
            "RangeIndex: 768 entries, 0 to 767\n",
            "Data columns (total 9 columns):\n",
            " #   Column                    Non-Null Count  Dtype  \n",
            "---  ------                    --------------  -----  \n",
            " 0   Pregnancies               768 non-null    int64  \n",
            " 1   Glucose                   768 non-null    int64  \n",
            " 2   BloodPressure             768 non-null    int64  \n",
            " 3   SkinThickness             768 non-null    int64  \n",
            " 4   Insulin                   768 non-null    int64  \n",
            " 5   BMI                       768 non-null    float64\n",
            " 6   DiabetesPedigreeFunction  768 non-null    float64\n",
            " 7   Age                       768 non-null    int64  \n",
            " 8   Outcome                   768 non-null    int64  \n",
            "dtypes: float64(2), int64(7)\n",
            "memory usage: 54.1 KB\n"
          ],
          "name": "stdout"
        }
      ]
    },
    {
      "cell_type": "markdown",
      "metadata": {
        "tags": [],
        "id": "tGDQxjn53zq6"
      },
      "source": [
        "**<font color='teal'> Apply the describe function to the data.</font>**"
      ]
    },
    {
      "cell_type": "code",
      "metadata": {
        "id": "3AtYg5lG3zq6",
        "outputId": "054be9b2-3adc-4d0d-be84-00d4a5b25dac"
      },
      "source": [
        "diabetes_data.describe()"
      ],
      "execution_count": null,
      "outputs": [
        {
          "output_type": "execute_result",
          "data": {
            "text/html": [
              "<div>\n",
              "<style scoped>\n",
              "    .dataframe tbody tr th:only-of-type {\n",
              "        vertical-align: middle;\n",
              "    }\n",
              "\n",
              "    .dataframe tbody tr th {\n",
              "        vertical-align: top;\n",
              "    }\n",
              "\n",
              "    .dataframe thead th {\n",
              "        text-align: right;\n",
              "    }\n",
              "</style>\n",
              "<table border=\"1\" class=\"dataframe\">\n",
              "  <thead>\n",
              "    <tr style=\"text-align: right;\">\n",
              "      <th></th>\n",
              "      <th>Pregnancies</th>\n",
              "      <th>Glucose</th>\n",
              "      <th>BloodPressure</th>\n",
              "      <th>SkinThickness</th>\n",
              "      <th>Insulin</th>\n",
              "      <th>BMI</th>\n",
              "      <th>DiabetesPedigreeFunction</th>\n",
              "      <th>Age</th>\n",
              "      <th>Outcome</th>\n",
              "    </tr>\n",
              "  </thead>\n",
              "  <tbody>\n",
              "    <tr>\n",
              "      <th>count</th>\n",
              "      <td>768.000000</td>\n",
              "      <td>768.000000</td>\n",
              "      <td>768.000000</td>\n",
              "      <td>768.000000</td>\n",
              "      <td>768.000000</td>\n",
              "      <td>768.000000</td>\n",
              "      <td>768.000000</td>\n",
              "      <td>768.000000</td>\n",
              "      <td>768.000000</td>\n",
              "    </tr>\n",
              "    <tr>\n",
              "      <th>mean</th>\n",
              "      <td>3.845052</td>\n",
              "      <td>120.894531</td>\n",
              "      <td>69.105469</td>\n",
              "      <td>20.536458</td>\n",
              "      <td>79.799479</td>\n",
              "      <td>31.992578</td>\n",
              "      <td>0.471876</td>\n",
              "      <td>33.240885</td>\n",
              "      <td>0.348958</td>\n",
              "    </tr>\n",
              "    <tr>\n",
              "      <th>std</th>\n",
              "      <td>3.369578</td>\n",
              "      <td>31.972618</td>\n",
              "      <td>19.355807</td>\n",
              "      <td>15.952218</td>\n",
              "      <td>115.244002</td>\n",
              "      <td>7.884160</td>\n",
              "      <td>0.331329</td>\n",
              "      <td>11.760232</td>\n",
              "      <td>0.476951</td>\n",
              "    </tr>\n",
              "    <tr>\n",
              "      <th>min</th>\n",
              "      <td>0.000000</td>\n",
              "      <td>0.000000</td>\n",
              "      <td>0.000000</td>\n",
              "      <td>0.000000</td>\n",
              "      <td>0.000000</td>\n",
              "      <td>0.000000</td>\n",
              "      <td>0.078000</td>\n",
              "      <td>21.000000</td>\n",
              "      <td>0.000000</td>\n",
              "    </tr>\n",
              "    <tr>\n",
              "      <th>25%</th>\n",
              "      <td>1.000000</td>\n",
              "      <td>99.000000</td>\n",
              "      <td>62.000000</td>\n",
              "      <td>0.000000</td>\n",
              "      <td>0.000000</td>\n",
              "      <td>27.300000</td>\n",
              "      <td>0.243750</td>\n",
              "      <td>24.000000</td>\n",
              "      <td>0.000000</td>\n",
              "    </tr>\n",
              "    <tr>\n",
              "      <th>50%</th>\n",
              "      <td>3.000000</td>\n",
              "      <td>117.000000</td>\n",
              "      <td>72.000000</td>\n",
              "      <td>23.000000</td>\n",
              "      <td>30.500000</td>\n",
              "      <td>32.000000</td>\n",
              "      <td>0.372500</td>\n",
              "      <td>29.000000</td>\n",
              "      <td>0.000000</td>\n",
              "    </tr>\n",
              "    <tr>\n",
              "      <th>75%</th>\n",
              "      <td>6.000000</td>\n",
              "      <td>140.250000</td>\n",
              "      <td>80.000000</td>\n",
              "      <td>32.000000</td>\n",
              "      <td>127.250000</td>\n",
              "      <td>36.600000</td>\n",
              "      <td>0.626250</td>\n",
              "      <td>41.000000</td>\n",
              "      <td>1.000000</td>\n",
              "    </tr>\n",
              "    <tr>\n",
              "      <th>max</th>\n",
              "      <td>17.000000</td>\n",
              "      <td>199.000000</td>\n",
              "      <td>122.000000</td>\n",
              "      <td>99.000000</td>\n",
              "      <td>846.000000</td>\n",
              "      <td>67.100000</td>\n",
              "      <td>2.420000</td>\n",
              "      <td>81.000000</td>\n",
              "      <td>1.000000</td>\n",
              "    </tr>\n",
              "  </tbody>\n",
              "</table>\n",
              "</div>"
            ],
            "text/plain": [
              "       Pregnancies     Glucose  BloodPressure  SkinThickness     Insulin  \\\n",
              "count   768.000000  768.000000     768.000000     768.000000  768.000000   \n",
              "mean      3.845052  120.894531      69.105469      20.536458   79.799479   \n",
              "std       3.369578   31.972618      19.355807      15.952218  115.244002   \n",
              "min       0.000000    0.000000       0.000000       0.000000    0.000000   \n",
              "25%       1.000000   99.000000      62.000000       0.000000    0.000000   \n",
              "50%       3.000000  117.000000      72.000000      23.000000   30.500000   \n",
              "75%       6.000000  140.250000      80.000000      32.000000  127.250000   \n",
              "max      17.000000  199.000000     122.000000      99.000000  846.000000   \n",
              "\n",
              "              BMI  DiabetesPedigreeFunction         Age     Outcome  \n",
              "count  768.000000                768.000000  768.000000  768.000000  \n",
              "mean    31.992578                  0.471876   33.240885    0.348958  \n",
              "std      7.884160                  0.331329   11.760232    0.476951  \n",
              "min      0.000000                  0.078000   21.000000    0.000000  \n",
              "25%     27.300000                  0.243750   24.000000    0.000000  \n",
              "50%     32.000000                  0.372500   29.000000    0.000000  \n",
              "75%     36.600000                  0.626250   41.000000    1.000000  \n",
              "max     67.100000                  2.420000   81.000000    1.000000  "
            ]
          },
          "metadata": {
            "tags": []
          },
          "execution_count": 4
        }
      ]
    },
    {
      "cell_type": "markdown",
      "metadata": {
        "tags": [],
        "id": "H1pGmEmY3zq6"
      },
      "source": [
        "**<font color='teal'> Currently, the missing values in the dataset are represented as zeros. Replace the zero values in the following columns ['Glucose','BloodPressure','SkinThickness','Insulin','BMI'] with nan .</font>**"
      ]
    },
    {
      "cell_type": "code",
      "metadata": {
        "id": "-Y52o7Su3zq7",
        "outputId": "dffadf7a-fdb4-4d9d-bd2f-fb6025a61666"
      },
      "source": [
        "cols = ['Glucose','BloodPressure','SkinThickness','Insulin','BMI'] \n",
        "diabetes_data[cols] = diabetes_data[cols].replace(['0', 0], np.nan)\n",
        "diabetes_data[cols]"
      ],
      "execution_count": null,
      "outputs": [
        {
          "output_type": "execute_result",
          "data": {
            "text/html": [
              "<div>\n",
              "<style scoped>\n",
              "    .dataframe tbody tr th:only-of-type {\n",
              "        vertical-align: middle;\n",
              "    }\n",
              "\n",
              "    .dataframe tbody tr th {\n",
              "        vertical-align: top;\n",
              "    }\n",
              "\n",
              "    .dataframe thead th {\n",
              "        text-align: right;\n",
              "    }\n",
              "</style>\n",
              "<table border=\"1\" class=\"dataframe\">\n",
              "  <thead>\n",
              "    <tr style=\"text-align: right;\">\n",
              "      <th></th>\n",
              "      <th>Glucose</th>\n",
              "      <th>BloodPressure</th>\n",
              "      <th>SkinThickness</th>\n",
              "      <th>Insulin</th>\n",
              "      <th>BMI</th>\n",
              "    </tr>\n",
              "  </thead>\n",
              "  <tbody>\n",
              "    <tr>\n",
              "      <th>0</th>\n",
              "      <td>148.0</td>\n",
              "      <td>72.0</td>\n",
              "      <td>35.0</td>\n",
              "      <td>NaN</td>\n",
              "      <td>33.6</td>\n",
              "    </tr>\n",
              "    <tr>\n",
              "      <th>1</th>\n",
              "      <td>85.0</td>\n",
              "      <td>66.0</td>\n",
              "      <td>29.0</td>\n",
              "      <td>NaN</td>\n",
              "      <td>26.6</td>\n",
              "    </tr>\n",
              "    <tr>\n",
              "      <th>2</th>\n",
              "      <td>183.0</td>\n",
              "      <td>64.0</td>\n",
              "      <td>NaN</td>\n",
              "      <td>NaN</td>\n",
              "      <td>23.3</td>\n",
              "    </tr>\n",
              "    <tr>\n",
              "      <th>3</th>\n",
              "      <td>89.0</td>\n",
              "      <td>66.0</td>\n",
              "      <td>23.0</td>\n",
              "      <td>94.0</td>\n",
              "      <td>28.1</td>\n",
              "    </tr>\n",
              "    <tr>\n",
              "      <th>4</th>\n",
              "      <td>137.0</td>\n",
              "      <td>40.0</td>\n",
              "      <td>35.0</td>\n",
              "      <td>168.0</td>\n",
              "      <td>43.1</td>\n",
              "    </tr>\n",
              "    <tr>\n",
              "      <th>...</th>\n",
              "      <td>...</td>\n",
              "      <td>...</td>\n",
              "      <td>...</td>\n",
              "      <td>...</td>\n",
              "      <td>...</td>\n",
              "    </tr>\n",
              "    <tr>\n",
              "      <th>763</th>\n",
              "      <td>101.0</td>\n",
              "      <td>76.0</td>\n",
              "      <td>48.0</td>\n",
              "      <td>180.0</td>\n",
              "      <td>32.9</td>\n",
              "    </tr>\n",
              "    <tr>\n",
              "      <th>764</th>\n",
              "      <td>122.0</td>\n",
              "      <td>70.0</td>\n",
              "      <td>27.0</td>\n",
              "      <td>NaN</td>\n",
              "      <td>36.8</td>\n",
              "    </tr>\n",
              "    <tr>\n",
              "      <th>765</th>\n",
              "      <td>121.0</td>\n",
              "      <td>72.0</td>\n",
              "      <td>23.0</td>\n",
              "      <td>112.0</td>\n",
              "      <td>26.2</td>\n",
              "    </tr>\n",
              "    <tr>\n",
              "      <th>766</th>\n",
              "      <td>126.0</td>\n",
              "      <td>60.0</td>\n",
              "      <td>NaN</td>\n",
              "      <td>NaN</td>\n",
              "      <td>30.1</td>\n",
              "    </tr>\n",
              "    <tr>\n",
              "      <th>767</th>\n",
              "      <td>93.0</td>\n",
              "      <td>70.0</td>\n",
              "      <td>31.0</td>\n",
              "      <td>NaN</td>\n",
              "      <td>30.4</td>\n",
              "    </tr>\n",
              "  </tbody>\n",
              "</table>\n",
              "<p>768 rows × 5 columns</p>\n",
              "</div>"
            ],
            "text/plain": [
              "     Glucose  BloodPressure  SkinThickness  Insulin   BMI\n",
              "0      148.0           72.0           35.0      NaN  33.6\n",
              "1       85.0           66.0           29.0      NaN  26.6\n",
              "2      183.0           64.0            NaN      NaN  23.3\n",
              "3       89.0           66.0           23.0     94.0  28.1\n",
              "4      137.0           40.0           35.0    168.0  43.1\n",
              "..       ...            ...            ...      ...   ...\n",
              "763    101.0           76.0           48.0    180.0  32.9\n",
              "764    122.0           70.0           27.0      NaN  36.8\n",
              "765    121.0           72.0           23.0    112.0  26.2\n",
              "766    126.0           60.0            NaN      NaN  30.1\n",
              "767     93.0           70.0           31.0      NaN  30.4\n",
              "\n",
              "[768 rows x 5 columns]"
            ]
          },
          "metadata": {
            "tags": []
          },
          "execution_count": 7
        }
      ]
    },
    {
      "cell_type": "markdown",
      "metadata": {
        "tags": [],
        "id": "QAeO6V-j3zq7"
      },
      "source": [
        "**<font color='teal'> Plot histograms of each column. </font>**"
      ]
    },
    {
      "cell_type": "code",
      "metadata": {
        "id": "GG5MRB7u3zq7",
        "outputId": "386bb63f-8b6b-4a04-a827-ba92420c16d7"
      },
      "source": [
        "diabetes_data.hist(bins=20,figsize=(10, 8))"
      ],
      "execution_count": null,
      "outputs": [
        {
          "output_type": "execute_result",
          "data": {
            "text/plain": [
              "array([[<matplotlib.axes._subplots.AxesSubplot object at 0x7fba7a160e10>,\n",
              "        <matplotlib.axes._subplots.AxesSubplot object at 0x7fba7a17d710>,\n",
              "        <matplotlib.axes._subplots.AxesSubplot object at 0x7fba7a30af10>],\n",
              "       [<matplotlib.axes._subplots.AxesSubplot object at 0x7fba7a34d750>,\n",
              "        <matplotlib.axes._subplots.AxesSubplot object at 0x7fba7a37ef50>,\n",
              "        <matplotlib.axes._subplots.AxesSubplot object at 0x7fba7a3c0790>],\n",
              "       [<matplotlib.axes._subplots.AxesSubplot object at 0x7fba7a3f3f90>,\n",
              "        <matplotlib.axes._subplots.AxesSubplot object at 0x7fba7a4377d0>,\n",
              "        <matplotlib.axes._subplots.AxesSubplot object at 0x7fba7a440350>]],\n",
              "      dtype=object)"
            ]
          },
          "metadata": {
            "tags": []
          },
          "execution_count": 11
        },
        {
          "output_type": "display_data",
          "data": {
            "image/png": "[encoded data removed]",
            "text/plain": [
              "<Figure size 720x576 with 9 Axes>"
            ]
          },
          "metadata": {
            "tags": []
          }
        }
      ]
    },
    {
      "cell_type": "markdown",
      "metadata": {
        "tags": [],
        "id": "CuweQDk83zq8"
      },
      "source": [
        "#### Replace the zeros with mean and median values."
      ]
    },
    {
      "cell_type": "code",
      "metadata": {
        "id": "r-PVzlTZ3zq8"
      },
      "source": [
        "diabetes_data['Glucose'].fillna(diabetes_data['Glucose'].mean(), inplace = True)\n",
        "diabetes_data['BloodPressure'].fillna(diabetes_data['BloodPressure'].mean(), inplace = True)\n",
        "diabetes_data['SkinThickness'].fillna(diabetes_data['SkinThickness'].median(), inplace = True)\n",
        "diabetes_data['Insulin'].fillna(diabetes_data['Insulin'].median(), inplace = True)\n",
        "diabetes_data['BMI'].fillna(diabetes_data['BMI'].median(), inplace = True)"
      ],
      "execution_count": null,
      "outputs": []
    },
    {
      "cell_type": "markdown",
      "metadata": {
        "tags": [],
        "id": "SL9sOR6_3zq8"
      },
      "source": [
        "**<font color='teal'> Plot histograms of each column after replacing nan. </font>**"
      ]
    },
    {
      "cell_type": "code",
      "metadata": {
        "id": "91u9urlu3zq8",
        "outputId": "e5697d41-b769-4a57-b3d9-a8d3fa3e0652"
      },
      "source": [
        "diabetes_data.hist(bins=20,figsize=(10, 8))"
      ],
      "execution_count": null,
      "outputs": [
        {
          "output_type": "execute_result",
          "data": {
            "text/plain": [
              "array([[<matplotlib.axes._subplots.AxesSubplot object at 0x7fba7a160ad0>,\n",
              "        <matplotlib.axes._subplots.AxesSubplot object at 0x7fba79ec5a50>,\n",
              "        <matplotlib.axes._subplots.AxesSubplot object at 0x7fba79a80e50>],\n",
              "       [<matplotlib.axes._subplots.AxesSubplot object at 0x7fba79a8cd90>,\n",
              "        <matplotlib.axes._subplots.AxesSubplot object at 0x7fba7a762a90>,\n",
              "        <matplotlib.axes._subplots.AxesSubplot object at 0x7fba7a769e10>],\n",
              "       [<matplotlib.axes._subplots.AxesSubplot object at 0x7fba79a7bad0>,\n",
              "        <matplotlib.axes._subplots.AxesSubplot object at 0x7fba74c70310>,\n",
              "        <matplotlib.axes._subplots.AxesSubplot object at 0x7fba74c70e50>]],\n",
              "      dtype=object)"
            ]
          },
          "metadata": {
            "tags": []
          },
          "execution_count": 13
        },
        {
          "output_type": "display_data",
          "data": {
            "image/png": "[encoded data removed]",
            "text/plain": [
              "<Figure size 720x576 with 9 Axes>"
            ]
          },
          "metadata": {
            "tags": []
          }
        }
      ]
    },
    {
      "cell_type": "markdown",
      "metadata": {
        "tags": [],
        "id": "rEvBJoFO3zq8"
      },
      "source": [
        "#### Plot the correlation matrix heatmap"
      ]
    },
    {
      "cell_type": "code",
      "metadata": {
        "id": "MAMmse8r3zq9",
        "outputId": "a1dec122-28e3-4120-bdd1-779756ff9f79"
      },
      "source": [
        "plt.figure(figsize=(12,10))\n",
        "print('Correlation between various features')\n",
        "p=sns.heatmap(diabetes_data.corr(), annot=True,cmap ='Blues')"
      ],
      "execution_count": null,
      "outputs": [
        {
          "output_type": "stream",
          "text": [
            "Correlation between various features\n"
          ],
          "name": "stdout"
        },
        {
          "output_type": "display_data",
          "data": {
            "image/png": "[encoded data removed]",
            "text/plain": [
              "<Figure size 864x720 with 2 Axes>"
            ]
          },
          "metadata": {
            "tags": []
          }
        }
      ]
    },
    {
      "cell_type": "markdown",
      "metadata": {
        "tags": [],
        "id": "flE_BN4w3zq9"
      },
      "source": [
        "**<font color='teal'> Define the `y` variable as the `Outcome` column.</font>**"
      ]
    },
    {
      "cell_type": "code",
      "metadata": {
        "id": "VLiH-sh33zq9"
      },
      "source": [
        "y = diabetes_data['Outcome']\n",
        "X = diabetes_data.drop('Outcome', axis=1)"
      ],
      "execution_count": null,
      "outputs": []
    },
    {
      "cell_type": "markdown",
      "metadata": {
        "tags": [],
        "id": "6RpX9xXt3zq9"
      },
      "source": [
        "**<font color='teal'> Create a 70/30 train and test split. </font>**"
      ]
    },
    {
      "cell_type": "code",
      "metadata": {
        "id": "7PPAQQY43zq9"
      },
      "source": [
        "from sklearn.model_selection import train_test_split\n",
        "X_train, X_test, y_train, y_test = train_test_split(diabetes_data, y, test_size=0.3)"
      ],
      "execution_count": null,
      "outputs": []
    },
    {
      "cell_type": "markdown",
      "metadata": {
        "tags": [],
        "id": "tGhZijJ43zq9"
      },
      "source": [
        "**<font color='teal'> Using Sklearn, standarize the magnitude of the features by scaling the values. </font>**"
      ]
    },
    {
      "cell_type": "markdown",
      "metadata": {
        "id": "KNASAyVb3zq9"
      },
      "source": [
        "Note: Don't forget to fit() your scaler on X_train and then use that fitted scaler to transform() X_test. This is to avoid data leakage while you standardize your data."
      ]
    },
    {
      "cell_type": "code",
      "metadata": {
        "id": "A3Zh9gDF3zq-",
        "outputId": "014f0d3f-039a-4c48-9dda-051c0919aa5a"
      },
      "source": [
        "from sklearn import preprocessing\n",
        "mm_scaler = preprocessing.StandardScaler()\n",
        "X_train_scale = mm_scaler.fit_transform(X_train)\n",
        "mm_scaler.transform(X_test)"
      ],
      "execution_count": null,
      "outputs": [
        {
          "output_type": "execute_result",
          "data": {
            "text/plain": [
              "array([[ 0.69748316, -0.79647461, -1.16842292, ..., -0.11680393,\n",
              "         0.85019217, -0.73394955],\n",
              "       [-0.52953881, -0.3315193 ,  0.2257678 , ..., -0.94192338,\n",
              "        -1.03426754, -0.73394955],\n",
              "       [-0.52953881, -0.46436368, -0.67635561, ..., -0.91266382,\n",
              "        -1.03426754, -0.73394955],\n",
              "       ...,\n",
              "       [-1.14304979,  0.16664709,  0.63582389, ...,  0.97750343,\n",
              "        -0.86295302, -0.73394955],\n",
              "       [ 0.69748316, -0.56399695, -0.1842883 , ..., -1.01799822,\n",
              "         0.33624861, -0.73394955],\n",
              "       [ 0.39072767, -1.49390756,  0.79984633, ..., -0.91851573,\n",
              "         0.16493409, -0.73394955]])"
            ]
          },
          "metadata": {
            "tags": []
          },
          "execution_count": 57
        }
      ]
    },
    {
      "cell_type": "markdown",
      "metadata": {
        "tags": [],
        "id": "P3ViRBM93zq-"
      },
      "source": [
        "#### Using a range of neighbor values of 1-10, apply the KNearestNeighbor classifier to classify the the data."
      ]
    },
    {
      "cell_type": "code",
      "metadata": {
        "id": "ixQ22Zz43zq-"
      },
      "source": [
        "from sklearn.neighbors import KNeighborsClassifier\n",
        "\n",
        "\n",
        "test_scores = []\n",
        "train_scores = []\n",
        "\n",
        "for i in range(1,10):\n",
        "\n",
        "    knn = KNeighborsClassifier(i)\n",
        "    knn.fit(X_train,y_train)\n",
        "    \n",
        "    train_scores.append(knn.score(X_train,y_train))\n",
        "    test_scores.append(knn.score(X_test,y_test))"
      ],
      "execution_count": null,
      "outputs": []
    },
    {
      "cell_type": "markdown",
      "metadata": {
        "tags": [],
        "id": "DIUT9F_f3zq-"
      },
      "source": [
        "**<font color='teal'> Print the train and test scores for each iteration.</font>**"
      ]
    },
    {
      "cell_type": "code",
      "metadata": {
        "id": "0w4pzrfl3zq-",
        "outputId": "cbec88e8-f860-47ad-e172-23fb0dea781a"
      },
      "source": [
        "traindict = { i : train_scores[i] for i in range(1, len(train_scores) ) }\n",
        "testdict = { i : test_scores[i] for i in range(1, len(test_scores) ) }\n",
        "print(traindict, testdict)"
      ],
      "execution_count": null,
      "outputs": [
        {
          "output_type": "stream",
          "text": [
            "{1: 0.8472998137802608, 2: 0.839851024208566, 3: 0.8249534450651769, 4: 0.8249534450651769, 5: 0.8249534450651769, 6: 0.8119180633147114, 7: 0.8044692737430168, 8: 0.7970204841713222} {1: 0.70995670995671, 2: 0.6926406926406926, 3: 0.7142857142857143, 4: 0.6753246753246753, 5: 0.7056277056277056, 6: 0.7012987012987013, 7: 0.696969696969697, 8: 0.70995670995671}\n"
          ],
          "name": "stdout"
        }
      ]
    },
    {
      "cell_type": "markdown",
      "metadata": {
        "tags": [],
        "id": "vggQJpJ83zq-"
      },
      "source": [
        "**<font color='teal'> Identify the number of neighbors that resulted in the max score in the training dataset. </font>**"
      ]
    },
    {
      "cell_type": "code",
      "metadata": {
        "id": "8EfzQaSp3zq-"
      },
      "source": [
        "def get_key(val, my_dict):\n",
        "    for key, value in my_dict.items():\n",
        "         if val == value:\n",
        "             return key\n",
        " \n",
        "    return \"key doesn't exist\"\n",
        " "
      ],
      "execution_count": null,
      "outputs": []
    },
    {
      "cell_type": "code",
      "metadata": {
        "id": "ImWWbHZB3zq_",
        "outputId": "faa8ec7c-994c-4a16-c926-5869e4f606ad"
      },
      "source": [
        "print(max(traindict.values()))"
      ],
      "execution_count": null,
      "outputs": [
        {
          "output_type": "stream",
          "text": [
            "0.8472998137802608\n"
          ],
          "name": "stdout"
        }
      ]
    },
    {
      "cell_type": "code",
      "metadata": {
        "id": "I2P-jPCr3zq_",
        "outputId": "0dc530fc-3876-4db7-d74f-f8e34691ada2"
      },
      "source": [
        "print('the highest number training nieghbor score is ' + str(get_key(0.8472998137802608, traindict)))"
      ],
      "execution_count": null,
      "outputs": [
        {
          "output_type": "stream",
          "text": [
            "the highest number training nieghbor score is 1\n"
          ],
          "name": "stdout"
        }
      ]
    },
    {
      "cell_type": "markdown",
      "metadata": {
        "tags": [],
        "id": "r9ZGXehe3zq_"
      },
      "source": [
        "**<font color='teal'> Identify the number of neighbors that resulted in the max score in the testing dataset. </font>**"
      ]
    },
    {
      "cell_type": "code",
      "metadata": {
        "id": "rW6NCf9U3zq_",
        "outputId": "0bdb345f-57eb-4001-b0a5-b806f51d4394"
      },
      "source": [
        "print(max(testdict.values()))"
      ],
      "execution_count": null,
      "outputs": [
        {
          "output_type": "stream",
          "text": [
            "0.7142857142857143\n"
          ],
          "name": "stdout"
        }
      ]
    },
    {
      "cell_type": "code",
      "metadata": {
        "id": "zPT8ntgl3zq_",
        "outputId": "5827a01e-c91a-44f0-a07d-30711e75f818"
      },
      "source": [
        "print('the highest number test nieghbor score is ' + str(get_key(0.7142857142857143, testdict)))"
      ],
      "execution_count": null,
      "outputs": [
        {
          "output_type": "stream",
          "text": [
            "the highest number test nieghbor score is 3\n"
          ],
          "name": "stdout"
        }
      ]
    },
    {
      "cell_type": "markdown",
      "metadata": {
        "tags": [],
        "id": "cGJevDfL3zq_"
      },
      "source": [
        "Plot the train and test model performance by number of neighbors."
      ]
    },
    {
      "cell_type": "code",
      "metadata": {
        "id": "sCB_SFYc3zrA",
        "outputId": "921aecf9-77df-410b-ffd7-ee9e617c8625"
      },
      "source": [
        "plt.figure(figsize=(12,5))\n",
        "p = sns.lineplot(range(1,10),train_scores,marker='*',label='Train Score')\n",
        "p = sns.lineplot(range(1,10),test_scores,marker='o',label='Test Score')"
      ],
      "execution_count": null,
      "outputs": [
        {
          "output_type": "stream",
          "text": [
            "/opt/anaconda3/lib/python3.7/site-packages/seaborn/_decorators.py:43: FutureWarning: Pass the following variables as keyword args: x, y. From version 0.12, the only valid positional argument will be `data`, and passing other arguments without an explicit keyword will result in an error or misinterpretation.\n",
            "  FutureWarning\n",
            "/opt/anaconda3/lib/python3.7/site-packages/seaborn/_decorators.py:43: FutureWarning: Pass the following variables as keyword args: x, y. From version 0.12, the only valid positional argument will be `data`, and passing other arguments without an explicit keyword will result in an error or misinterpretation.\n",
            "  FutureWarning\n"
          ],
          "name": "stderr"
        },
        {
          "output_type": "display_data",
          "data": {
            "image/png": "[encoded data removed]",
            "text/plain": [
              "<Figure size 864x360 with 1 Axes>"
            ]
          },
          "metadata": {
            "tags": []
          }
        }
      ]
    },
    {
      "cell_type": "markdown",
      "metadata": {
        "tags": [],
        "id": "JNwyZnGb3zrA"
      },
      "source": [
        "**<font color='teal'> Fit and score the best number of neighbors based on the plot. </font>**"
      ]
    },
    {
      "cell_type": "code",
      "metadata": {
        "id": "YvbW7xDB3zrA",
        "outputId": "6a751e15-3e3b-4688-a85c-95c2acfbbda8"
      },
      "source": [
        "#based of the plot, 4 looks to be highest \n",
        "knn4 = KNeighborsClassifier(4)\n",
        "knn4.fit(X_train,y_train)"
      ],
      "execution_count": null,
      "outputs": [
        {
          "output_type": "execute_result",
          "data": {
            "text/plain": [
              "KNeighborsClassifier(n_neighbors=4)"
            ]
          },
          "metadata": {
            "tags": []
          },
          "execution_count": 67
        }
      ]
    },
    {
      "cell_type": "code",
      "metadata": {
        "id": "Rv0n66XP3zrA"
      },
      "source": [
        "from sklearn.metrics import confusion_matrix\n",
        "y_pred = knn.predict(X_test)\n",
        "pl = confusion_matrix(y_test,y_pred)"
      ],
      "execution_count": null,
      "outputs": []
    },
    {
      "cell_type": "markdown",
      "metadata": {
        "tags": [],
        "id": "tgYxAr163zrA"
      },
      "source": [
        "**<font color='teal'> Plot the confusion matrix for the model fit above. </font>**"
      ]
    },
    {
      "cell_type": "code",
      "metadata": {
        "id": "pfoYnO8s3zrA",
        "outputId": "36912f18-cbe7-40a4-f285-cd864cabab40"
      },
      "source": [
        "from sklearn.metrics import plot_confusion_matrix\n",
        "\n",
        "disp = plot_confusion_matrix(knn4, X_test, y_test,\n",
        "                                 cmap=plt.cm.Blues)\n",
        "\n",
        "plt.show()"
      ],
      "execution_count": null,
      "outputs": [
        {
          "output_type": "display_data",
          "data": {
            "image/png": "[encoded data removed]",
            "text/plain": [
              "<Figure size 432x288 with 2 Axes>"
            ]
          },
          "metadata": {
            "tags": []
          }
        }
      ]
    },
    {
      "cell_type": "markdown",
      "metadata": {
        "tags": [],
        "id": "bu2f8ObU3zrB"
      },
      "source": [
        "**<font color='teal'> Print the classification report </font>**"
      ]
    },
    {
      "cell_type": "code",
      "metadata": {
        "id": "6Su1Vnv43zrB",
        "outputId": "64868fd0-4a87-44c4-86b9-8496c5c9432a"
      },
      "source": [
        "from sklearn.metrics import classification_report\n",
        "print(classification_report(y_test, y_pred))"
      ],
      "execution_count": null,
      "outputs": [
        {
          "output_type": "stream",
          "text": [
            "              precision    recall  f1-score   support\n",
            "\n",
            "           0       0.76      0.82      0.79       151\n",
            "           1       0.60      0.51      0.55        80\n",
            "\n",
            "    accuracy                           0.71       231\n",
            "   macro avg       0.68      0.67      0.67       231\n",
            "weighted avg       0.71      0.71      0.71       231\n",
            "\n"
          ],
          "name": "stdout"
        }
      ]
    },
    {
      "cell_type": "markdown",
      "metadata": {
        "tags": [],
        "id": "fLX59nAj3zrB"
      },
      "source": [
        "#### In the case of the K nearest neighbors algorithm, the K parameter is one of the most important parameters affecting the model performance.  The model performance isn't horrible, but what if we didn't consider a wide enough range of values in our neighbors for the KNN? An alternative to fitting a loop of models is to use a grid search to identify the proper number. It is common practice to use a grid search method for all adjustable parameters in any type of machine learning algorithm. First, you define the grid — aka the range of values — to test in the parameter being optimized, and then compare the model outcome performance based on the different values in the grid."
      ]
    },
    {
      "cell_type": "markdown",
      "metadata": {
        "tags": [],
        "id": "sagHwst33zrB"
      },
      "source": [
        "#### Run the code in the next cell to see how to implement the grid search method for identifying the best parameter value for the n_neighbors parameter. Notice the param_grid is the range value to test and we apply cross validation with five folds to score each possible value of n_neighbors."
      ]
    },
    {
      "cell_type": "code",
      "metadata": {
        "id": "l1xR-bRV3zrB",
        "outputId": "f4608796-70ba-49f5-c421-bba474d35a6c"
      },
      "source": [
        "from sklearn.model_selection import GridSearchCV\n",
        "param_grid = {'n_neighbors':np.arange(1,50)}\n",
        "knn = KNeighborsClassifier()\n",
        "knn_cv= GridSearchCV(knn,param_grid,cv=5)\n",
        "knn_cv.fit(X,y)"
      ],
      "execution_count": null,
      "outputs": [
        {
          "output_type": "execute_result",
          "data": {
            "text/plain": [
              "GridSearchCV(cv=5, estimator=KNeighborsClassifier(),\n",
              "             param_grid={'n_neighbors': array([ 1,  2,  3,  4,  5,  6,  7,  8,  9, 10, 11, 12, 13, 14, 15, 16, 17,\n",
              "       18, 19, 20, 21, 22, 23, 24, 25, 26, 27, 28, 29, 30, 31, 32, 33, 34,\n",
              "       35, 36, 37, 38, 39, 40, 41, 42, 43, 44, 45, 46, 47, 48, 49])})"
            ]
          },
          "metadata": {
            "tags": []
          },
          "execution_count": 81
        }
      ]
    },
    {
      "cell_type": "markdown",
      "metadata": {
        "tags": [],
        "id": "Kk6JGSOV3zrC"
      },
      "source": [
        "#### Print the best score and best parameter for n_neighbors."
      ]
    },
    {
      "cell_type": "code",
      "metadata": {
        "id": "_iJLsZLY3zrC",
        "outputId": "ca66f940-95f2-43b3-9c91-01ac008ac243"
      },
      "source": [
        "print(\"Best Score:\" + str(knn_cv.best_score_))\n",
        "print(\"Best Parameters: \" + str(knn_cv.best_params_))"
      ],
      "execution_count": null,
      "outputs": [
        {
          "output_type": "stream",
          "text": [
            "Best Score:0.7526440879382056\n",
            "Best Parameters: {'n_neighbors': 31}\n"
          ],
          "name": "stdout"
        }
      ]
    },
    {
      "cell_type": "markdown",
      "metadata": {
        "id": "oOYJ4lTN3zrC"
      },
      "source": [
        "Here you can see that the ideal number of n_neighbors for this model is 31 based on the grid search performed. "
      ]
    },
    {
      "cell_type": "markdown",
      "metadata": {
        "tags": [],
        "id": "8e1EIzfQ3zrC"
      },
      "source": [
        "**<font color='teal'> Now, following the KNN example, apply this grid search method to find the optimal number of estimators in a Randon Forest model.\n",
        "</font>**"
      ]
    },
    {
      "cell_type": "code",
      "metadata": {
        "id": "UETIFhTT3zrC",
        "outputId": "a4aaa955-3a7f-417b-9808-f30a38f543f0"
      },
      "source": [
        "from sklearn.model_selection import GridSearchCV\n",
        "from sklearn.ensemble import RandomForestClassifier\n",
        "param_grid = {'n_estimators':np.arange(1,50)}\n",
        "randfor = RandomForestClassifier(random_state=0)\n",
        "ranfor_cv= GridSearchCV(randfor,param_grid,cv=5)\n",
        "ranfor_cv.fit(X,y)\n",
        "\n"
      ],
      "execution_count": null,
      "outputs": [
        {
          "output_type": "execute_result",
          "data": {
            "text/plain": [
              "GridSearchCV(cv=5, estimator=RandomForestClassifier(random_state=0),\n",
              "             param_grid={'n_estimators': array([ 1,  2,  3,  4,  5,  6,  7,  8,  9, 10, 11, 12, 13, 14, 15, 16, 17,\n",
              "       18, 19, 20, 21, 22, 23, 24, 25, 26, 27, 28, 29, 30, 31, 32, 33, 34,\n",
              "       35, 36, 37, 38, 39, 40, 41, 42, 43, 44, 45, 46, 47, 48, 49])})"
            ]
          },
          "metadata": {
            "tags": []
          },
          "execution_count": 86
        }
      ]
    },
    {
      "cell_type": "code",
      "metadata": {
        "tags": [],
        "id": "E6ZApkSy3zrC",
        "outputId": "deaaf7fb-05f0-4293-8131-064fba4ed343"
      },
      "source": [
        "ranfor_cv.cv_results_ "
      ],
      "execution_count": null,
      "outputs": [
        {
          "output_type": "execute_result",
          "data": {
            "text/plain": [
              "{'mean_fit_time': array([0.00523868, 0.00593343, 0.00728526, 0.0092195 , 0.00999041,\n",
              "        0.01159658, 0.01264281, 0.01423817, 0.01684995, 0.01766558,\n",
              "        0.01886792, 0.02026896, 0.02228026, 0.02441339, 0.02815661,\n",
              "        0.0296299 , 0.03117304, 0.03078923, 0.03018856, 0.03303533,\n",
              "        0.03487306, 0.03544755, 0.03786817, 0.03838301, 0.0392097 ,\n",
              "        0.0406179 , 0.04309912, 0.04348187, 0.04519954, 0.04685507,\n",
              "        0.04836206, 0.04989629, 0.05105886, 0.05204711, 0.05522118,\n",
              "        0.05833282, 0.05850401, 0.05847206, 0.06018739, 0.06850739,\n",
              "        0.07438164, 0.07309403, 0.07362595, 0.0761075 , 0.08000898,\n",
              "        0.07399616, 0.0766274 , 0.07837443, 0.07967906]),\n",
              " 'std_fit_time': array([0.00038513, 0.00024105, 0.00046072, 0.00077526, 0.00094092,\n",
              "        0.00048955, 0.00032867, 0.00020088, 0.00123358, 0.00041615,\n",
              "        0.00076534, 0.00050937, 0.00064237, 0.00126863, 0.00121633,\n",
              "        0.00020381, 0.00111667, 0.00186082, 0.00140403, 0.00135829,\n",
              "        0.00074755, 0.00130548, 0.00110634, 0.00093895, 0.00059241,\n",
              "        0.00067314, 0.00156266, 0.00132169, 0.0005005 , 0.00130066,\n",
              "        0.00135396, 0.00097531, 0.00078601, 0.00056243, 0.0013674 ,\n",
              "        0.00203503, 0.0032357 , 0.0012451 , 0.00088873, 0.00250087,\n",
              "        0.00573851, 0.00190229, 0.00315206, 0.00164336, 0.00830952,\n",
              "        0.00370051, 0.00344092, 0.00205642, 0.0019081 ]),\n",
              " 'mean_score_time': array([0.002145  , 0.00207582, 0.00201359, 0.00221529, 0.00263739,\n",
              "        0.00228348, 0.00254116, 0.00284629, 0.00267639, 0.00279622,\n",
              "        0.00296311, 0.0028872 , 0.00345936, 0.00345297, 0.00334668,\n",
              "        0.00354939, 0.00355439, 0.00368514, 0.00409164, 0.00349174,\n",
              "        0.0035274 , 0.00365629, 0.00355139, 0.00472465, 0.00419297,\n",
              "        0.00451474, 0.00448184, 0.00424356, 0.00461755, 0.00450368,\n",
              "        0.00466566, 0.00425487, 0.00507512, 0.00541625, 0.00465064,\n",
              "        0.00550623, 0.00572381, 0.00555258, 0.00500112, 0.00613241,\n",
              "        0.00635929, 0.00600815, 0.00648866, 0.00674248, 0.00697603,\n",
              "        0.00576386, 0.00643559, 0.00611858, 0.0068408 ]),\n",
              " 'std_score_time': array([0.00028962, 0.00035266, 0.00015904, 0.00036576, 0.00046398,\n",
              "        0.00022213, 0.0003952 , 0.00023898, 0.00017911, 0.00028955,\n",
              "        0.00037415, 0.00045157, 0.0004782 , 0.00035044, 0.0006757 ,\n",
              "        0.00057014, 0.00052726, 0.00049878, 0.00020122, 0.00042258,\n",
              "        0.00023522, 0.00058542, 0.00012968, 0.00066332, 0.00050774,\n",
              "        0.00022959, 0.00053033, 0.00038676, 0.00045247, 0.00064726,\n",
              "        0.00042726, 0.00050199, 0.00036991, 0.00028923, 0.00039402,\n",
              "        0.00063387, 0.00152457, 0.0008254 , 0.00038253, 0.00088724,\n",
              "        0.00090213, 0.00059185, 0.00083196, 0.00057756, 0.00063767,\n",
              "        0.00052053, 0.00038774, 0.00051173, 0.00067839]),\n",
              " 'param_n_estimators': masked_array(data=[1, 2, 3, 4, 5, 6, 7, 8, 9, 10, 11, 12, 13, 14, 15, 16,\n",
              "                    17, 18, 19, 20, 21, 22, 23, 24, 25, 26, 27, 28, 29, 30,\n",
              "                    31, 32, 33, 34, 35, 36, 37, 38, 39, 40, 41, 42, 43, 44,\n",
              "                    45, 46, 47, 48, 49],\n",
              "              mask=[False, False, False, False, False, False, False, False,\n",
              "                    False, False, False, False, False, False, False, False,\n",
              "                    False, False, False, False, False, False, False, False,\n",
              "                    False, False, False, False, False, False, False, False,\n",
              "                    False, False, False, False, False, False, False, False,\n",
              "                    False, False, False, False, False, False, False, False,\n",
              "                    False],\n",
              "        fill_value='?',\n",
              "             dtype=object),\n",
              " 'params': [{'n_estimators': 1},\n",
              "  {'n_estimators': 2},\n",
              "  {'n_estimators': 3},\n",
              "  {'n_estimators': 4},\n",
              "  {'n_estimators': 5},\n",
              "  {'n_estimators': 6},\n",
              "  {'n_estimators': 7},\n",
              "  {'n_estimators': 8},\n",
              "  {'n_estimators': 9},\n",
              "  {'n_estimators': 10},\n",
              "  {'n_estimators': 11},\n",
              "  {'n_estimators': 12},\n",
              "  {'n_estimators': 13},\n",
              "  {'n_estimators': 14},\n",
              "  {'n_estimators': 15},\n",
              "  {'n_estimators': 16},\n",
              "  {'n_estimators': 17},\n",
              "  {'n_estimators': 18},\n",
              "  {'n_estimators': 19},\n",
              "  {'n_estimators': 20},\n",
              "  {'n_estimators': 21},\n",
              "  {'n_estimators': 22},\n",
              "  {'n_estimators': 23},\n",
              "  {'n_estimators': 24},\n",
              "  {'n_estimators': 25},\n",
              "  {'n_estimators': 26},\n",
              "  {'n_estimators': 27},\n",
              "  {'n_estimators': 28},\n",
              "  {'n_estimators': 29},\n",
              "  {'n_estimators': 30},\n",
              "  {'n_estimators': 31},\n",
              "  {'n_estimators': 32},\n",
              "  {'n_estimators': 33},\n",
              "  {'n_estimators': 34},\n",
              "  {'n_estimators': 35},\n",
              "  {'n_estimators': 36},\n",
              "  {'n_estimators': 37},\n",
              "  {'n_estimators': 38},\n",
              "  {'n_estimators': 39},\n",
              "  {'n_estimators': 40},\n",
              "  {'n_estimators': 41},\n",
              "  {'n_estimators': 42},\n",
              "  {'n_estimators': 43},\n",
              "  {'n_estimators': 44},\n",
              "  {'n_estimators': 45},\n",
              "  {'n_estimators': 46},\n",
              "  {'n_estimators': 47},\n",
              "  {'n_estimators': 48},\n",
              "  {'n_estimators': 49}],\n",
              " 'split0_test_score': array([0.68831169, 0.7012987 , 0.72077922, 0.72077922, 0.76623377,\n",
              "        0.76623377, 0.78571429, 0.79220779, 0.77272727, 0.79220779,\n",
              "        0.77922078, 0.77922078, 0.76623377, 0.76623377, 0.76623377,\n",
              "        0.74675325, 0.74025974, 0.73376623, 0.74025974, 0.73376623,\n",
              "        0.73376623, 0.74025974, 0.74025974, 0.75974026, 0.74675325,\n",
              "        0.75974026, 0.73376623, 0.75324675, 0.74675325, 0.74025974,\n",
              "        0.74675325, 0.75324675, 0.75974026, 0.77272727, 0.76623377,\n",
              "        0.77272727, 0.75974026, 0.77272727, 0.76623377, 0.76623377,\n",
              "        0.75324675, 0.75324675, 0.75974026, 0.76623377, 0.76623377,\n",
              "        0.76623377, 0.77272727, 0.76623377, 0.75974026]),\n",
              " 'split1_test_score': array([0.73376623, 0.7012987 , 0.72077922, 0.74025974, 0.71428571,\n",
              "        0.73376623, 0.74025974, 0.72727273, 0.71428571, 0.72077922,\n",
              "        0.72727273, 0.73376623, 0.73376623, 0.72077922, 0.74025974,\n",
              "        0.74675325, 0.72727273, 0.73376623, 0.72077922, 0.71428571,\n",
              "        0.73376623, 0.74675325, 0.74675325, 0.74025974, 0.74675325,\n",
              "        0.74025974, 0.74025974, 0.75324675, 0.75974026, 0.76623377,\n",
              "        0.75324675, 0.75974026, 0.75974026, 0.75974026, 0.75324675,\n",
              "        0.75324675, 0.75324675, 0.75324675, 0.75324675, 0.75324675,\n",
              "        0.75324675, 0.75324675, 0.75324675, 0.75324675, 0.75324675,\n",
              "        0.75324675, 0.75324675, 0.75324675, 0.75324675]),\n",
              " 'split2_test_score': array([0.72077922, 0.7012987 , 0.71428571, 0.74675325, 0.75324675,\n",
              "        0.74675325, 0.76623377, 0.74025974, 0.75974026, 0.74025974,\n",
              "        0.74675325, 0.72727273, 0.74025974, 0.74025974, 0.74675325,\n",
              "        0.73376623, 0.75324675, 0.75324675, 0.74675325, 0.74025974,\n",
              "        0.74025974, 0.73376623, 0.73376623, 0.73376623, 0.74025974,\n",
              "        0.75324675, 0.72727273, 0.73376623, 0.73376623, 0.75324675,\n",
              "        0.76623377, 0.77272727, 0.77272727, 0.77272727, 0.77272727,\n",
              "        0.76623377, 0.77922078, 0.77272727, 0.77272727, 0.76623377,\n",
              "        0.75974026, 0.75324675, 0.75324675, 0.75974026, 0.75324675,\n",
              "        0.74675325, 0.74025974, 0.74025974, 0.74025974]),\n",
              " 'split3_test_score': array([0.71895425, 0.73202614, 0.82352941, 0.81699346, 0.84313725,\n",
              "        0.83660131, 0.83660131, 0.83006536, 0.83006536, 0.82352941,\n",
              "        0.83660131, 0.83660131, 0.83660131, 0.82352941, 0.83006536,\n",
              "        0.83660131, 0.83006536, 0.83006536, 0.80392157, 0.81699346,\n",
              "        0.81045752, 0.81699346, 0.82352941, 0.83006536, 0.83660131,\n",
              "        0.82352941, 0.81699346, 0.82352941, 0.83006536, 0.82352941,\n",
              "        0.81699346, 0.81699346, 0.81045752, 0.83006536, 0.82352941,\n",
              "        0.81699346, 0.82352941, 0.81699346, 0.81699346, 0.81699346,\n",
              "        0.81045752, 0.81699346, 0.81699346, 0.81699346, 0.81699346,\n",
              "        0.82352941, 0.81699346, 0.81045752, 0.82352941]),\n",
              " 'split4_test_score': array([0.62091503, 0.68627451, 0.67973856, 0.73202614, 0.7124183 ,\n",
              "        0.73856209, 0.7124183 , 0.73202614, 0.7124183 , 0.73202614,\n",
              "        0.7254902 , 0.73202614, 0.7254902 , 0.73202614, 0.70588235,\n",
              "        0.73202614, 0.71895425, 0.7254902 , 0.7124183 , 0.69934641,\n",
              "        0.68627451, 0.69934641, 0.68627451, 0.69281046, 0.69281046,\n",
              "        0.70588235, 0.69281046, 0.69934641, 0.69281046, 0.69934641,\n",
              "        0.69281046, 0.70588235, 0.69281046, 0.7124183 , 0.70588235,\n",
              "        0.70588235, 0.7124183 , 0.7124183 , 0.71895425, 0.7124183 ,\n",
              "        0.70588235, 0.7124183 , 0.70588235, 0.7124183 , 0.7124183 ,\n",
              "        0.7124183 , 0.7124183 , 0.71895425, 0.71895425]),\n",
              " 'mean_test_score': array([0.69654528, 0.70443935, 0.73182243, 0.75136236, 0.75786436,\n",
              "        0.76438333, 0.76824548, 0.76436635, 0.75784738, 0.76176046,\n",
              "        0.76306765, 0.76177744, 0.76047025, 0.75656566, 0.75783889,\n",
              "        0.75918004, 0.75395977, 0.75526696, 0.74482642, 0.74093031,\n",
              "        0.74090485, 0.74742382, 0.74611663, 0.75132841, 0.7526356 ,\n",
              "        0.7565317 , 0.74222052, 0.75262711, 0.75262711, 0.75652322,\n",
              "        0.75520754, 0.76171802, 0.75909515, 0.76953569, 0.76432391,\n",
              "        0.76301672, 0.7656311 , 0.76562261, 0.7656311 , 0.76302521,\n",
              "        0.75651473, 0.7578304 , 0.75782192, 0.76172651, 0.76042781,\n",
              "        0.7604363 , 0.75912911, 0.7578304 , 0.75914608]),\n",
              " 'std_test_score': array([0.04065113, 0.01497053, 0.04832047, 0.03394458, 0.0475968 ,\n",
              "        0.03777254, 0.04214641, 0.04023546, 0.04336323, 0.03941653,\n",
              "        0.04153944, 0.0418646 , 0.04043347, 0.03667794, 0.041033  ,\n",
              "        0.03920739, 0.03979408, 0.03849701, 0.03207915, 0.04068546,\n",
              "        0.03981051, 0.03844392, 0.04418384, 0.04500125, 0.04658681,\n",
              "        0.03831426, 0.04081937, 0.04055236, 0.04475611, 0.04032009,\n",
              "        0.03976882, 0.03569278, 0.03799584, 0.03753015, 0.03772976,\n",
              "        0.03571532, 0.03621207, 0.03383424, 0.03168884, 0.03343603,\n",
              "        0.033182  , 0.03354268, 0.03533988, 0.03341228, 0.03358997,\n",
              "        0.03621877, 0.03494495, 0.03059844, 0.03507833]),\n",
              " 'rank_test_score': array([49, 48, 47, 39, 23,  6,  2,  7, 24, 13,  9, 12, 16, 29, 25, 19, 35,\n",
              "        33, 43, 45, 46, 41, 42, 40, 36, 30, 44, 37, 37, 31, 34, 15, 22,  1,\n",
              "         8, 11,  3,  5,  3, 10, 32, 26, 28, 14, 18, 17, 21, 26, 20],\n",
              "       dtype=int32)}"
            ]
          },
          "metadata": {
            "tags": []
          },
          "execution_count": 90
        }
      ]
    },
    {
      "cell_type": "code",
      "metadata": {
        "id": "wn2ONxmK3zrC",
        "outputId": "8437a57c-bbb7-469e-93cb-12964367db8f"
      },
      "source": [
        "ranfor_cv.best_params_"
      ],
      "execution_count": null,
      "outputs": [
        {
          "output_type": "execute_result",
          "data": {
            "text/plain": [
              "{'n_estimators': 34}"
            ]
          },
          "metadata": {
            "tags": []
          },
          "execution_count": 91
        }
      ]
    },
    {
      "cell_type": "code",
      "metadata": {
        "id": "6H8uducP3zrD"
      },
      "source": [
        "With a different model like Random Forest, the number of estimators do change slightly from 31 to 34"
      ],
      "execution_count": null,
      "outputs": []
    }
  ]
}